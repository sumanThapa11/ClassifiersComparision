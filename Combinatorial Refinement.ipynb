{
 "cells": [
  {
   "cell_type": "code",
   "execution_count": 81,
   "id": "d57de6d3-04df-412b-b388-26a9a33fb142",
   "metadata": {},
   "outputs": [],
   "source": [
    "import numpy as np\n",
    "from sklearn import svm, discriminant_analysis\n",
    "from sklearn.metrics import accuracy_score\n",
    "from sklearn.utils import shuffle\n",
    "from itertools import combinations\n",
    "from sklearn.model_selection import KFold\n",
    "from sklearn.preprocessing import StandardScaler\n",
    "import pandas as pd\n",
    "from sklearn.model_selection import train_test_split, StratifiedKFold\n",
    "from sklearn.discriminant_analysis import LinearDiscriminantAnalysis as LDA\n",
    "\n",
    "# Ignoring warning\n",
    "import warnings\n",
    "warnings.filterwarnings(\"ignore\")"
   ]
  },
  {
   "cell_type": "code",
   "execution_count": 82,
   "id": "7e005837-f38a-4f46-868e-a2f745910c47",
   "metadata": {},
   "outputs": [
    {
     "data": {
      "text/html": [
       "<div>\n",
       "<style scoped>\n",
       "    .dataframe tbody tr th:only-of-type {\n",
       "        vertical-align: middle;\n",
       "    }\n",
       "\n",
       "    .dataframe tbody tr th {\n",
       "        vertical-align: top;\n",
       "    }\n",
       "\n",
       "    .dataframe thead th {\n",
       "        text-align: right;\n",
       "    }\n",
       "</style>\n",
       "<table border=\"1\" class=\"dataframe\">\n",
       "  <thead>\n",
       "    <tr style=\"text-align: right;\">\n",
       "      <th></th>\n",
       "      <th>id</th>\n",
       "      <th>diagnosis</th>\n",
       "      <th>radius_mean</th>\n",
       "      <th>texture_mean</th>\n",
       "      <th>perimeter_mean</th>\n",
       "      <th>area_mean</th>\n",
       "      <th>smoothness_mean</th>\n",
       "      <th>compactness_mean</th>\n",
       "      <th>concavity_mean</th>\n",
       "      <th>concave points_mean</th>\n",
       "      <th>symmetry_mean</th>\n",
       "      <th>fractal_dimension_mean</th>\n",
       "      <th>radius_se</th>\n",
       "      <th>texture_se</th>\n",
       "      <th>perimeter_se</th>\n",
       "      <th>area_se</th>\n",
       "      <th>smoothness_se</th>\n",
       "      <th>compactness_se</th>\n",
       "      <th>concavity_se</th>\n",
       "      <th>concave points_se</th>\n",
       "      <th>symmetry_se</th>\n",
       "      <th>fractal_dimension_se</th>\n",
       "      <th>radius_worst</th>\n",
       "      <th>texture_worst</th>\n",
       "      <th>perimeter_worst</th>\n",
       "      <th>area_worst</th>\n",
       "      <th>smoothness_worst</th>\n",
       "      <th>compactness_worst</th>\n",
       "      <th>concavity_worst</th>\n",
       "      <th>concave points_worst</th>\n",
       "      <th>symmetry_worst</th>\n",
       "      <th>fractal_dimension_worst</th>\n",
       "    </tr>\n",
       "  </thead>\n",
       "  <tbody>\n",
       "    <tr>\n",
       "      <th>0</th>\n",
       "      <td>842302</td>\n",
       "      <td>M</td>\n",
       "      <td>17.99</td>\n",
       "      <td>10.38</td>\n",
       "      <td>122.80</td>\n",
       "      <td>1001.0</td>\n",
       "      <td>0.11840</td>\n",
       "      <td>0.27760</td>\n",
       "      <td>0.3001</td>\n",
       "      <td>0.14710</td>\n",
       "      <td>0.2419</td>\n",
       "      <td>0.07871</td>\n",
       "      <td>1.0950</td>\n",
       "      <td>0.9053</td>\n",
       "      <td>8.589</td>\n",
       "      <td>153.40</td>\n",
       "      <td>0.006399</td>\n",
       "      <td>0.04904</td>\n",
       "      <td>0.05373</td>\n",
       "      <td>0.01587</td>\n",
       "      <td>0.03003</td>\n",
       "      <td>0.006193</td>\n",
       "      <td>25.38</td>\n",
       "      <td>17.33</td>\n",
       "      <td>184.60</td>\n",
       "      <td>2019.0</td>\n",
       "      <td>0.1622</td>\n",
       "      <td>0.6656</td>\n",
       "      <td>0.7119</td>\n",
       "      <td>0.2654</td>\n",
       "      <td>0.4601</td>\n",
       "      <td>0.11890</td>\n",
       "    </tr>\n",
       "    <tr>\n",
       "      <th>1</th>\n",
       "      <td>842517</td>\n",
       "      <td>M</td>\n",
       "      <td>20.57</td>\n",
       "      <td>17.77</td>\n",
       "      <td>132.90</td>\n",
       "      <td>1326.0</td>\n",
       "      <td>0.08474</td>\n",
       "      <td>0.07864</td>\n",
       "      <td>0.0869</td>\n",
       "      <td>0.07017</td>\n",
       "      <td>0.1812</td>\n",
       "      <td>0.05667</td>\n",
       "      <td>0.5435</td>\n",
       "      <td>0.7339</td>\n",
       "      <td>3.398</td>\n",
       "      <td>74.08</td>\n",
       "      <td>0.005225</td>\n",
       "      <td>0.01308</td>\n",
       "      <td>0.01860</td>\n",
       "      <td>0.01340</td>\n",
       "      <td>0.01389</td>\n",
       "      <td>0.003532</td>\n",
       "      <td>24.99</td>\n",
       "      <td>23.41</td>\n",
       "      <td>158.80</td>\n",
       "      <td>1956.0</td>\n",
       "      <td>0.1238</td>\n",
       "      <td>0.1866</td>\n",
       "      <td>0.2416</td>\n",
       "      <td>0.1860</td>\n",
       "      <td>0.2750</td>\n",
       "      <td>0.08902</td>\n",
       "    </tr>\n",
       "    <tr>\n",
       "      <th>2</th>\n",
       "      <td>84300903</td>\n",
       "      <td>M</td>\n",
       "      <td>19.69</td>\n",
       "      <td>21.25</td>\n",
       "      <td>130.00</td>\n",
       "      <td>1203.0</td>\n",
       "      <td>0.10960</td>\n",
       "      <td>0.15990</td>\n",
       "      <td>0.1974</td>\n",
       "      <td>0.12790</td>\n",
       "      <td>0.2069</td>\n",
       "      <td>0.05999</td>\n",
       "      <td>0.7456</td>\n",
       "      <td>0.7869</td>\n",
       "      <td>4.585</td>\n",
       "      <td>94.03</td>\n",
       "      <td>0.006150</td>\n",
       "      <td>0.04006</td>\n",
       "      <td>0.03832</td>\n",
       "      <td>0.02058</td>\n",
       "      <td>0.02250</td>\n",
       "      <td>0.004571</td>\n",
       "      <td>23.57</td>\n",
       "      <td>25.53</td>\n",
       "      <td>152.50</td>\n",
       "      <td>1709.0</td>\n",
       "      <td>0.1444</td>\n",
       "      <td>0.4245</td>\n",
       "      <td>0.4504</td>\n",
       "      <td>0.2430</td>\n",
       "      <td>0.3613</td>\n",
       "      <td>0.08758</td>\n",
       "    </tr>\n",
       "    <tr>\n",
       "      <th>3</th>\n",
       "      <td>84348301</td>\n",
       "      <td>M</td>\n",
       "      <td>11.42</td>\n",
       "      <td>20.38</td>\n",
       "      <td>77.58</td>\n",
       "      <td>386.1</td>\n",
       "      <td>0.14250</td>\n",
       "      <td>0.28390</td>\n",
       "      <td>0.2414</td>\n",
       "      <td>0.10520</td>\n",
       "      <td>0.2597</td>\n",
       "      <td>0.09744</td>\n",
       "      <td>0.4956</td>\n",
       "      <td>1.1560</td>\n",
       "      <td>3.445</td>\n",
       "      <td>27.23</td>\n",
       "      <td>0.009110</td>\n",
       "      <td>0.07458</td>\n",
       "      <td>0.05661</td>\n",
       "      <td>0.01867</td>\n",
       "      <td>0.05963</td>\n",
       "      <td>0.009208</td>\n",
       "      <td>14.91</td>\n",
       "      <td>26.50</td>\n",
       "      <td>98.87</td>\n",
       "      <td>567.7</td>\n",
       "      <td>0.2098</td>\n",
       "      <td>0.8663</td>\n",
       "      <td>0.6869</td>\n",
       "      <td>0.2575</td>\n",
       "      <td>0.6638</td>\n",
       "      <td>0.17300</td>\n",
       "    </tr>\n",
       "    <tr>\n",
       "      <th>4</th>\n",
       "      <td>84358402</td>\n",
       "      <td>M</td>\n",
       "      <td>20.29</td>\n",
       "      <td>14.34</td>\n",
       "      <td>135.10</td>\n",
       "      <td>1297.0</td>\n",
       "      <td>0.10030</td>\n",
       "      <td>0.13280</td>\n",
       "      <td>0.1980</td>\n",
       "      <td>0.10430</td>\n",
       "      <td>0.1809</td>\n",
       "      <td>0.05883</td>\n",
       "      <td>0.7572</td>\n",
       "      <td>0.7813</td>\n",
       "      <td>5.438</td>\n",
       "      <td>94.44</td>\n",
       "      <td>0.011490</td>\n",
       "      <td>0.02461</td>\n",
       "      <td>0.05688</td>\n",
       "      <td>0.01885</td>\n",
       "      <td>0.01756</td>\n",
       "      <td>0.005115</td>\n",
       "      <td>22.54</td>\n",
       "      <td>16.67</td>\n",
       "      <td>152.20</td>\n",
       "      <td>1575.0</td>\n",
       "      <td>0.1374</td>\n",
       "      <td>0.2050</td>\n",
       "      <td>0.4000</td>\n",
       "      <td>0.1625</td>\n",
       "      <td>0.2364</td>\n",
       "      <td>0.07678</td>\n",
       "    </tr>\n",
       "  </tbody>\n",
       "</table>\n",
       "</div>"
      ],
      "text/plain": [
       "         id diagnosis  radius_mean  texture_mean  perimeter_mean  area_mean  \\\n",
       "0    842302         M        17.99         10.38          122.80     1001.0   \n",
       "1    842517         M        20.57         17.77          132.90     1326.0   \n",
       "2  84300903         M        19.69         21.25          130.00     1203.0   \n",
       "3  84348301         M        11.42         20.38           77.58      386.1   \n",
       "4  84358402         M        20.29         14.34          135.10     1297.0   \n",
       "\n",
       "   smoothness_mean  compactness_mean  concavity_mean  concave points_mean  \\\n",
       "0          0.11840           0.27760          0.3001              0.14710   \n",
       "1          0.08474           0.07864          0.0869              0.07017   \n",
       "2          0.10960           0.15990          0.1974              0.12790   \n",
       "3          0.14250           0.28390          0.2414              0.10520   \n",
       "4          0.10030           0.13280          0.1980              0.10430   \n",
       "\n",
       "   symmetry_mean  fractal_dimension_mean  radius_se  texture_se  perimeter_se  \\\n",
       "0         0.2419                 0.07871     1.0950      0.9053         8.589   \n",
       "1         0.1812                 0.05667     0.5435      0.7339         3.398   \n",
       "2         0.2069                 0.05999     0.7456      0.7869         4.585   \n",
       "3         0.2597                 0.09744     0.4956      1.1560         3.445   \n",
       "4         0.1809                 0.05883     0.7572      0.7813         5.438   \n",
       "\n",
       "   area_se  smoothness_se  compactness_se  concavity_se  concave points_se  \\\n",
       "0   153.40       0.006399         0.04904       0.05373            0.01587   \n",
       "1    74.08       0.005225         0.01308       0.01860            0.01340   \n",
       "2    94.03       0.006150         0.04006       0.03832            0.02058   \n",
       "3    27.23       0.009110         0.07458       0.05661            0.01867   \n",
       "4    94.44       0.011490         0.02461       0.05688            0.01885   \n",
       "\n",
       "   symmetry_se  fractal_dimension_se  radius_worst  texture_worst  \\\n",
       "0      0.03003              0.006193         25.38          17.33   \n",
       "1      0.01389              0.003532         24.99          23.41   \n",
       "2      0.02250              0.004571         23.57          25.53   \n",
       "3      0.05963              0.009208         14.91          26.50   \n",
       "4      0.01756              0.005115         22.54          16.67   \n",
       "\n",
       "   perimeter_worst  area_worst  smoothness_worst  compactness_worst  \\\n",
       "0           184.60      2019.0            0.1622             0.6656   \n",
       "1           158.80      1956.0            0.1238             0.1866   \n",
       "2           152.50      1709.0            0.1444             0.4245   \n",
       "3            98.87       567.7            0.2098             0.8663   \n",
       "4           152.20      1575.0            0.1374             0.2050   \n",
       "\n",
       "   concavity_worst  concave points_worst  symmetry_worst  \\\n",
       "0           0.7119                0.2654          0.4601   \n",
       "1           0.2416                0.1860          0.2750   \n",
       "2           0.4504                0.2430          0.3613   \n",
       "3           0.6869                0.2575          0.6638   \n",
       "4           0.4000                0.1625          0.2364   \n",
       "\n",
       "   fractal_dimension_worst  \n",
       "0                  0.11890  \n",
       "1                  0.08902  \n",
       "2                  0.08758  \n",
       "3                  0.17300  \n",
       "4                  0.07678  "
      ]
     },
     "execution_count": 82,
     "metadata": {},
     "output_type": "execute_result"
    }
   ],
   "source": [
    "# Loading the dataset\n",
    "data = pd.read_csv(\"./breast-cancer.csv\")\n",
    "data.head()"
   ]
  },
  {
   "cell_type": "code",
   "execution_count": 83,
   "id": "46a9a882-3c00-4819-90fc-0f30e6ccd8fa",
   "metadata": {},
   "outputs": [],
   "source": [
    "# dropping unnecessary columns\n",
    "data.drop('id',axis=1,inplace=True)"
   ]
  },
  {
   "cell_type": "code",
   "execution_count": 84,
   "id": "e6e6c49b-feee-42ec-a2d3-0f742a1f594d",
   "metadata": {},
   "outputs": [],
   "source": [
    "data['diagnosis'] = (data['diagnosis'] == 'M').astype(int) #encode the label into 1/0"
   ]
  },
  {
   "cell_type": "code",
   "execution_count": 86,
   "id": "5bc60289-10fa-4851-a37e-eebf0b97e4f5",
   "metadata": {},
   "outputs": [
    {
     "data": {
      "text/html": [
       "<div>\n",
       "<style scoped>\n",
       "    .dataframe tbody tr th:only-of-type {\n",
       "        vertical-align: middle;\n",
       "    }\n",
       "\n",
       "    .dataframe tbody tr th {\n",
       "        vertical-align: top;\n",
       "    }\n",
       "\n",
       "    .dataframe thead th {\n",
       "        text-align: right;\n",
       "    }\n",
       "</style>\n",
       "<table border=\"1\" class=\"dataframe\">\n",
       "  <thead>\n",
       "    <tr style=\"text-align: right;\">\n",
       "      <th></th>\n",
       "      <th>diagnosis</th>\n",
       "      <th>radius_mean</th>\n",
       "      <th>texture_mean</th>\n",
       "      <th>perimeter_mean</th>\n",
       "      <th>area_mean</th>\n",
       "      <th>smoothness_mean</th>\n",
       "      <th>compactness_mean</th>\n",
       "      <th>concavity_mean</th>\n",
       "      <th>concave points_mean</th>\n",
       "      <th>symmetry_mean</th>\n",
       "      <th>fractal_dimension_mean</th>\n",
       "      <th>radius_se</th>\n",
       "      <th>texture_se</th>\n",
       "      <th>perimeter_se</th>\n",
       "      <th>area_se</th>\n",
       "      <th>smoothness_se</th>\n",
       "      <th>compactness_se</th>\n",
       "      <th>concavity_se</th>\n",
       "      <th>concave points_se</th>\n",
       "      <th>symmetry_se</th>\n",
       "      <th>fractal_dimension_se</th>\n",
       "      <th>radius_worst</th>\n",
       "      <th>texture_worst</th>\n",
       "      <th>perimeter_worst</th>\n",
       "      <th>area_worst</th>\n",
       "      <th>smoothness_worst</th>\n",
       "      <th>compactness_worst</th>\n",
       "      <th>concavity_worst</th>\n",
       "      <th>concave points_worst</th>\n",
       "      <th>symmetry_worst</th>\n",
       "      <th>fractal_dimension_worst</th>\n",
       "    </tr>\n",
       "  </thead>\n",
       "  <tbody>\n",
       "    <tr>\n",
       "      <th>0</th>\n",
       "      <td>1</td>\n",
       "      <td>17.99</td>\n",
       "      <td>10.38</td>\n",
       "      <td>122.80</td>\n",
       "      <td>1001.0</td>\n",
       "      <td>0.11840</td>\n",
       "      <td>0.27760</td>\n",
       "      <td>0.3001</td>\n",
       "      <td>0.14710</td>\n",
       "      <td>0.2419</td>\n",
       "      <td>0.07871</td>\n",
       "      <td>1.0950</td>\n",
       "      <td>0.9053</td>\n",
       "      <td>8.589</td>\n",
       "      <td>153.40</td>\n",
       "      <td>0.006399</td>\n",
       "      <td>0.04904</td>\n",
       "      <td>0.05373</td>\n",
       "      <td>0.01587</td>\n",
       "      <td>0.03003</td>\n",
       "      <td>0.006193</td>\n",
       "      <td>25.38</td>\n",
       "      <td>17.33</td>\n",
       "      <td>184.60</td>\n",
       "      <td>2019.0</td>\n",
       "      <td>0.1622</td>\n",
       "      <td>0.6656</td>\n",
       "      <td>0.7119</td>\n",
       "      <td>0.2654</td>\n",
       "      <td>0.4601</td>\n",
       "      <td>0.11890</td>\n",
       "    </tr>\n",
       "    <tr>\n",
       "      <th>1</th>\n",
       "      <td>1</td>\n",
       "      <td>20.57</td>\n",
       "      <td>17.77</td>\n",
       "      <td>132.90</td>\n",
       "      <td>1326.0</td>\n",
       "      <td>0.08474</td>\n",
       "      <td>0.07864</td>\n",
       "      <td>0.0869</td>\n",
       "      <td>0.07017</td>\n",
       "      <td>0.1812</td>\n",
       "      <td>0.05667</td>\n",
       "      <td>0.5435</td>\n",
       "      <td>0.7339</td>\n",
       "      <td>3.398</td>\n",
       "      <td>74.08</td>\n",
       "      <td>0.005225</td>\n",
       "      <td>0.01308</td>\n",
       "      <td>0.01860</td>\n",
       "      <td>0.01340</td>\n",
       "      <td>0.01389</td>\n",
       "      <td>0.003532</td>\n",
       "      <td>24.99</td>\n",
       "      <td>23.41</td>\n",
       "      <td>158.80</td>\n",
       "      <td>1956.0</td>\n",
       "      <td>0.1238</td>\n",
       "      <td>0.1866</td>\n",
       "      <td>0.2416</td>\n",
       "      <td>0.1860</td>\n",
       "      <td>0.2750</td>\n",
       "      <td>0.08902</td>\n",
       "    </tr>\n",
       "    <tr>\n",
       "      <th>2</th>\n",
       "      <td>1</td>\n",
       "      <td>19.69</td>\n",
       "      <td>21.25</td>\n",
       "      <td>130.00</td>\n",
       "      <td>1203.0</td>\n",
       "      <td>0.10960</td>\n",
       "      <td>0.15990</td>\n",
       "      <td>0.1974</td>\n",
       "      <td>0.12790</td>\n",
       "      <td>0.2069</td>\n",
       "      <td>0.05999</td>\n",
       "      <td>0.7456</td>\n",
       "      <td>0.7869</td>\n",
       "      <td>4.585</td>\n",
       "      <td>94.03</td>\n",
       "      <td>0.006150</td>\n",
       "      <td>0.04006</td>\n",
       "      <td>0.03832</td>\n",
       "      <td>0.02058</td>\n",
       "      <td>0.02250</td>\n",
       "      <td>0.004571</td>\n",
       "      <td>23.57</td>\n",
       "      <td>25.53</td>\n",
       "      <td>152.50</td>\n",
       "      <td>1709.0</td>\n",
       "      <td>0.1444</td>\n",
       "      <td>0.4245</td>\n",
       "      <td>0.4504</td>\n",
       "      <td>0.2430</td>\n",
       "      <td>0.3613</td>\n",
       "      <td>0.08758</td>\n",
       "    </tr>\n",
       "    <tr>\n",
       "      <th>3</th>\n",
       "      <td>1</td>\n",
       "      <td>11.42</td>\n",
       "      <td>20.38</td>\n",
       "      <td>77.58</td>\n",
       "      <td>386.1</td>\n",
       "      <td>0.14250</td>\n",
       "      <td>0.28390</td>\n",
       "      <td>0.2414</td>\n",
       "      <td>0.10520</td>\n",
       "      <td>0.2597</td>\n",
       "      <td>0.09744</td>\n",
       "      <td>0.4956</td>\n",
       "      <td>1.1560</td>\n",
       "      <td>3.445</td>\n",
       "      <td>27.23</td>\n",
       "      <td>0.009110</td>\n",
       "      <td>0.07458</td>\n",
       "      <td>0.05661</td>\n",
       "      <td>0.01867</td>\n",
       "      <td>0.05963</td>\n",
       "      <td>0.009208</td>\n",
       "      <td>14.91</td>\n",
       "      <td>26.50</td>\n",
       "      <td>98.87</td>\n",
       "      <td>567.7</td>\n",
       "      <td>0.2098</td>\n",
       "      <td>0.8663</td>\n",
       "      <td>0.6869</td>\n",
       "      <td>0.2575</td>\n",
       "      <td>0.6638</td>\n",
       "      <td>0.17300</td>\n",
       "    </tr>\n",
       "    <tr>\n",
       "      <th>4</th>\n",
       "      <td>1</td>\n",
       "      <td>20.29</td>\n",
       "      <td>14.34</td>\n",
       "      <td>135.10</td>\n",
       "      <td>1297.0</td>\n",
       "      <td>0.10030</td>\n",
       "      <td>0.13280</td>\n",
       "      <td>0.1980</td>\n",
       "      <td>0.10430</td>\n",
       "      <td>0.1809</td>\n",
       "      <td>0.05883</td>\n",
       "      <td>0.7572</td>\n",
       "      <td>0.7813</td>\n",
       "      <td>5.438</td>\n",
       "      <td>94.44</td>\n",
       "      <td>0.011490</td>\n",
       "      <td>0.02461</td>\n",
       "      <td>0.05688</td>\n",
       "      <td>0.01885</td>\n",
       "      <td>0.01756</td>\n",
       "      <td>0.005115</td>\n",
       "      <td>22.54</td>\n",
       "      <td>16.67</td>\n",
       "      <td>152.20</td>\n",
       "      <td>1575.0</td>\n",
       "      <td>0.1374</td>\n",
       "      <td>0.2050</td>\n",
       "      <td>0.4000</td>\n",
       "      <td>0.1625</td>\n",
       "      <td>0.2364</td>\n",
       "      <td>0.07678</td>\n",
       "    </tr>\n",
       "  </tbody>\n",
       "</table>\n",
       "</div>"
      ],
      "text/plain": [
       "   diagnosis  radius_mean  texture_mean  perimeter_mean  area_mean  \\\n",
       "0          1        17.99         10.38          122.80     1001.0   \n",
       "1          1        20.57         17.77          132.90     1326.0   \n",
       "2          1        19.69         21.25          130.00     1203.0   \n",
       "3          1        11.42         20.38           77.58      386.1   \n",
       "4          1        20.29         14.34          135.10     1297.0   \n",
       "\n",
       "   smoothness_mean  compactness_mean  concavity_mean  concave points_mean  \\\n",
       "0          0.11840           0.27760          0.3001              0.14710   \n",
       "1          0.08474           0.07864          0.0869              0.07017   \n",
       "2          0.10960           0.15990          0.1974              0.12790   \n",
       "3          0.14250           0.28390          0.2414              0.10520   \n",
       "4          0.10030           0.13280          0.1980              0.10430   \n",
       "\n",
       "   symmetry_mean  fractal_dimension_mean  radius_se  texture_se  perimeter_se  \\\n",
       "0         0.2419                 0.07871     1.0950      0.9053         8.589   \n",
       "1         0.1812                 0.05667     0.5435      0.7339         3.398   \n",
       "2         0.2069                 0.05999     0.7456      0.7869         4.585   \n",
       "3         0.2597                 0.09744     0.4956      1.1560         3.445   \n",
       "4         0.1809                 0.05883     0.7572      0.7813         5.438   \n",
       "\n",
       "   area_se  smoothness_se  compactness_se  concavity_se  concave points_se  \\\n",
       "0   153.40       0.006399         0.04904       0.05373            0.01587   \n",
       "1    74.08       0.005225         0.01308       0.01860            0.01340   \n",
       "2    94.03       0.006150         0.04006       0.03832            0.02058   \n",
       "3    27.23       0.009110         0.07458       0.05661            0.01867   \n",
       "4    94.44       0.011490         0.02461       0.05688            0.01885   \n",
       "\n",
       "   symmetry_se  fractal_dimension_se  radius_worst  texture_worst  \\\n",
       "0      0.03003              0.006193         25.38          17.33   \n",
       "1      0.01389              0.003532         24.99          23.41   \n",
       "2      0.02250              0.004571         23.57          25.53   \n",
       "3      0.05963              0.009208         14.91          26.50   \n",
       "4      0.01756              0.005115         22.54          16.67   \n",
       "\n",
       "   perimeter_worst  area_worst  smoothness_worst  compactness_worst  \\\n",
       "0           184.60      2019.0            0.1622             0.6656   \n",
       "1           158.80      1956.0            0.1238             0.1866   \n",
       "2           152.50      1709.0            0.1444             0.4245   \n",
       "3            98.87       567.7            0.2098             0.8663   \n",
       "4           152.20      1575.0            0.1374             0.2050   \n",
       "\n",
       "   concavity_worst  concave points_worst  symmetry_worst  \\\n",
       "0           0.7119                0.2654          0.4601   \n",
       "1           0.2416                0.1860          0.2750   \n",
       "2           0.4504                0.2430          0.3613   \n",
       "3           0.6869                0.2575          0.6638   \n",
       "4           0.4000                0.1625          0.2364   \n",
       "\n",
       "   fractal_dimension_worst  \n",
       "0                  0.11890  \n",
       "1                  0.08902  \n",
       "2                  0.08758  \n",
       "3                  0.17300  \n",
       "4                  0.07678  "
      ]
     },
     "execution_count": 86,
     "metadata": {},
     "output_type": "execute_result"
    }
   ],
   "source": [
    "data.head()"
   ]
  },
  {
   "cell_type": "code",
   "execution_count": 87,
   "id": "c6a7b1c8-8a15-40b1-9d0f-2697d44fd767",
   "metadata": {},
   "outputs": [
    {
     "name": "stdout",
     "output_type": "stream",
     "text": [
      "<class 'pandas.core.frame.DataFrame'>\n",
      "RangeIndex: 569 entries, 0 to 568\n",
      "Data columns (total 31 columns):\n",
      " #   Column                   Non-Null Count  Dtype  \n",
      "---  ------                   --------------  -----  \n",
      " 0   diagnosis                569 non-null    int64  \n",
      " 1   radius_mean              569 non-null    float64\n",
      " 2   texture_mean             569 non-null    float64\n",
      " 3   perimeter_mean           569 non-null    float64\n",
      " 4   area_mean                569 non-null    float64\n",
      " 5   smoothness_mean          569 non-null    float64\n",
      " 6   compactness_mean         569 non-null    float64\n",
      " 7   concavity_mean           569 non-null    float64\n",
      " 8   concave points_mean      569 non-null    float64\n",
      " 9   symmetry_mean            569 non-null    float64\n",
      " 10  fractal_dimension_mean   569 non-null    float64\n",
      " 11  radius_se                569 non-null    float64\n",
      " 12  texture_se               569 non-null    float64\n",
      " 13  perimeter_se             569 non-null    float64\n",
      " 14  area_se                  569 non-null    float64\n",
      " 15  smoothness_se            569 non-null    float64\n",
      " 16  compactness_se           569 non-null    float64\n",
      " 17  concavity_se             569 non-null    float64\n",
      " 18  concave points_se        569 non-null    float64\n",
      " 19  symmetry_se              569 non-null    float64\n",
      " 20  fractal_dimension_se     569 non-null    float64\n",
      " 21  radius_worst             569 non-null    float64\n",
      " 22  texture_worst            569 non-null    float64\n",
      " 23  perimeter_worst          569 non-null    float64\n",
      " 24  area_worst               569 non-null    float64\n",
      " 25  smoothness_worst         569 non-null    float64\n",
      " 26  compactness_worst        569 non-null    float64\n",
      " 27  concavity_worst          569 non-null    float64\n",
      " 28  concave points_worst     569 non-null    float64\n",
      " 29  symmetry_worst           569 non-null    float64\n",
      " 30  fractal_dimension_worst  569 non-null    float64\n",
      "dtypes: float64(30), int64(1)\n",
      "memory usage: 137.9 KB\n"
     ]
    }
   ],
   "source": [
    "data.info()"
   ]
  },
  {
   "cell_type": "code",
   "execution_count": 88,
   "id": "08cdfd10-57ae-45b1-8ee8-9abf20f012a3",
   "metadata": {},
   "outputs": [],
   "source": [
    "# Separating the features and class label\n",
    "class_label = 'diagnosis'  # the label column is named 'diagnosis'\n",
    "features = data.columns[1:]  # All columns except the first one (diagnosis)\n",
    "i1 = 0  # Class 0\n",
    "i2 = 1  # Class 1\n"
   ]
  },
  {
   "cell_type": "code",
   "execution_count": 89,
   "id": "e33f3875-a8e3-410a-afa4-a9b798e488a9",
   "metadata": {},
   "outputs": [],
   "source": [
    "# Extracting classes\n",
    "C1 = data[data[class_label] == i1].loc[:, features].values\n",
    "C2 = data[data[class_label] == i2].loc[:, features].values"
   ]
  },
  {
   "cell_type": "code",
   "execution_count": 90,
   "id": "89eaa837-bb32-4bf4-928a-38993d1c9059",
   "metadata": {},
   "outputs": [],
   "source": [
    "G = C1  # Class G\n",
    "F = C2  # Class F"
   ]
  },
  {
   "cell_type": "code",
   "execution_count": 91,
   "id": "181ca7db-810f-4b95-9a8f-bc069f9bac69",
   "metadata": {},
   "outputs": [
    {
     "name": "stdout",
     "output_type": "stream",
     "text": [
      "************   seeds  ***************\n",
      "SAMPLE SIZE : \n",
      "  # OBJECTS : 569\n",
      "  # FEATURES: 30\n",
      " BALANCE : 1.6839622641509433\n"
     ]
    }
   ],
   "source": [
    "print('************   seeds  ***************')\n",
    "print('SAMPLE SIZE : ')\n",
    "print(f'  # OBJECTS : {len(G) + len(F)}')\n",
    "print(f'  # FEATURES: {G.shape[1]}')\n",
    "\n",
    "print(f' BALANCE : {len(G) / len(F)}')\n"
   ]
  },
  {
   "cell_type": "code",
   "execution_count": 92,
   "id": "e63a7968-1cce-4bf1-8099-7ebc9e54c62b",
   "metadata": {},
   "outputs": [
    {
     "name": "stdout",
     "output_type": "stream",
     "text": [
      "within random permutation of objects\n"
     ]
    }
   ],
   "source": [
    "# Random permutation of objects in data\n",
    "PP = 1\n",
    "if PP == 1:\n",
    "    G = G[np.random.permutation(len(G))]\n",
    "    F = F[np.random.permutation(len(F))]\n",
    "    print('within random permutation of objects')\n",
    "else:\n",
    "    print('without random permutation of objects')"
   ]
  },
  {
   "cell_type": "code",
   "execution_count": 93,
   "id": "0ac6a92c-9f46-4a0c-83e8-1189f25f19d7",
   "metadata": {},
   "outputs": [
    {
     "name": "stdout",
     "output_type": "stream",
     "text": [
      "without normalisation\n"
     ]
    }
   ],
   "source": [
    "# Normalization to mean=0 and standard deviation=1 with respect to class G\n",
    "NN = 0\n",
    "if NN == 1:\n",
    "    print('with normalisation')\n",
    "    scaler = StandardScaler().fit(G)\n",
    "    G = scaler.transform(G)\n",
    "    F = scaler.transform(F)\n",
    "else:\n",
    "    print('without normalisation')"
   ]
  },
  {
   "cell_type": "code",
   "execution_count": 94,
   "id": "64f6cd1a-a744-46bf-a271-1ac22d159438",
   "metadata": {},
   "outputs": [],
   "source": [
    "# Function to calculate error rate\n",
    "def ERRS(G, F, classifier):\n",
    "    G_pred = classifier.predict(G)\n",
    "    F_pred = classifier.predict(F)\n",
    "    return (1 - accuracy_score([0] * len(G), G_pred)) * 100, (1 - accuracy_score([1] * len(F), F_pred)) * 100\n"
   ]
  },
  {
   "cell_type": "code",
   "execution_count": 95,
   "id": "44b77046-618e-4781-9302-aed261c85d48",
   "metadata": {},
   "outputs": [],
   "source": [
    "# # Function to train the classifier\n",
    "# def parameters(G, F, type='SVM'):\n",
    "#     if type == 'SVM':\n",
    "#         classifier = svm.SVC(kernel='linear')\n",
    "#         X = np.vstack((G, F))\n",
    "#         y = np.array([0] * len(G) + [1] * len(F))\n",
    "#         classifier.fit(X, y)\n",
    "#         return classifier"
   ]
  },
  {
   "cell_type": "code",
   "execution_count": 96,
   "id": "7ad18042-7910-43b8-a5be-483962e1ff9e",
   "metadata": {},
   "outputs": [],
   "source": [
    "def parameters(train_G, train_F, model_type):\n",
    "    if model_type == 'SVM':\n",
    "        classifier = svm.SVC(kernel='linear')\n",
    "    elif model_type == 'LDA':\n",
    "        classifier = LDA()\n",
    "    else:\n",
    "        raise ValueError(\"Unsupported model type\")\n",
    "\n",
    "    X_train = np.vstack((train_G, train_F))\n",
    "    y_train = np.hstack((np.zeros(train_G.shape[0]), np.ones(train_F.shape[0])))\n",
    "    classifier.fit(X_train, y_train)\n",
    "    \n",
    "    return classifier"
   ]
  },
  {
   "cell_type": "code",
   "execution_count": 97,
   "id": "4d04bba4-87d8-4dd6-9a1d-96451d73fc6a",
   "metadata": {},
   "outputs": [
    {
     "name": "stdout",
     "output_type": "stream",
     "text": [
      "Refinement in d-1 dimensional space\n",
      "Initial classifier: SVM\n",
      "Accuracy: 2.2408963585434205%\n"
     ]
    }
   ],
   "source": [
    "print('Refinement in d-1 dimensional space')\n",
    "type = 'SVM'\n",
    "print(f'Initial classifier: {type}')\n",
    "classifier_ini = parameters(G, F, type)\n",
    "initial_accuracy = ERRS(G, F, classifier_ini)[0]\n",
    "print(f'Accuracy: {initial_accuracy}%')"
   ]
  },
  {
   "cell_type": "code",
   "execution_count": 98,
   "id": "5169fccc-635b-4759-9c45-565233fefc76",
   "metadata": {},
   "outputs": [],
   "source": [
    "# Generating all possible combinations of k elements from features\n",
    "k = 2\n",
    "P = list(combinations(range(G.shape[1]), k))"
   ]
  },
  {
   "cell_type": "code",
   "execution_count": 99,
   "id": "f2224b46-ce4a-4c62-9633-52b8472b7828",
   "metadata": {},
   "outputs": [
    {
     "name": "stdout",
     "output_type": "stream",
     "text": [
      "Refinement classifier: SVM\n"
     ]
    }
   ],
   "source": [
    "type = 'SVM'\n",
    "print(f'Refinement classifier: {type}')\n",
    "RESULTS = []"
   ]
  },
  {
   "cell_type": "code",
   "execution_count": 100,
   "id": "ab324ba5-bc58-4d3d-9ed6-90edd3fb5ec9",
   "metadata": {},
   "outputs": [],
   "source": [
    "for combo in P[5:15]:\n",
    "    I1 = list(combo)\n",
    "    I2 = [i for i in range(G.shape[1]) if i not in I1]\n",
    "\n",
    "    # Dimensionality reduction\n",
    "    REF_G = np.hstack((np.sum(G[:, I1] * classifier_ini.coef_[0, I1], axis=1).reshape(-1, 1), G[:, I2]))\n",
    "    REF_F = np.hstack((np.sum(F[:, I1] * classifier_ini.coef_[0, I1], axis=1).reshape(-1, 1), F[:, I2]))\n",
    "\n",
    "    classifier = parameters(REF_G, REF_F, type)\n",
    "    err_G, err_F = ERRS(REF_G, REF_F, classifier)\n",
    "    RESULTS.append((*combo, err_G, err_F))\n"
   ]
  },
  {
   "cell_type": "code",
   "execution_count": 101,
   "id": "14065e83-3919-4b56-87c6-ca8e835caa44",
   "metadata": {},
   "outputs": [
    {
     "name": "stdout",
     "output_type": "stream",
     "text": [
      "   Feature 1  Feature 2   Error G   Error F\n",
      "0          0          6  1.960784  5.660377\n",
      "1          0          7  1.680672  5.660377\n",
      "2          0          8  1.960784  6.603774\n",
      "3          0          9  2.240896  5.660377\n",
      "4          0         10  2.240896  5.660377\n",
      "5          0         11  1.960784  7.075472\n",
      "6          0         12  1.960784  5.188679\n",
      "7          0         13  1.680672  5.660377\n",
      "8          0         14  1.960784  6.603774\n",
      "9          0         15  2.240896  5.660377\n"
     ]
    }
   ],
   "source": [
    "# Converting RESULTS to DataFrame for better visualization\n",
    "# Set option to display all rows and columns\n",
    "pd.set_option('display.max_rows', None)\n",
    "pd.set_option('display.max_columns', None)\n",
    "\n",
    "results_df = pd.DataFrame(RESULTS, columns=['Feature 1', 'Feature 2', 'Error G', 'Error F'])\n",
    "print(results_df)"
   ]
  },
  {
   "cell_type": "markdown",
   "id": "db9e17fa-79ca-460b-be39-afa197de6eb3",
   "metadata": {},
   "source": [
    "## **Comparing the generalization abilities of initial classifier and refinement** "
   ]
  },
  {
   "cell_type": "code",
   "execution_count": 102,
   "id": "390a7488-e77d-4f66-a1ea-341501c1eeb5",
   "metadata": {},
   "outputs": [],
   "source": [
    "# Holdout Method 50/50%\n",
    "n = 2  # 50/50 split\n",
    "i1 = round(len(G) / n)\n",
    "i2 = round(len(F) / n)\n",
    "\n",
    "test_G = G[:i1, :]\n",
    "train_G = G[i1:, :]\n",
    "test_F = F[:i2, :]\n",
    "train_F = F[i2:, :]"
   ]
  },
  {
   "cell_type": "code",
   "execution_count": 103,
   "id": "dca6a385-2dfc-469c-9875-21280cb850ec",
   "metadata": {},
   "outputs": [
    {
     "name": "stdout",
     "output_type": "stream",
     "text": [
      "Initial classifier: SVM\n",
      "Error of TEST (initial): (5.0561797752809, 5.660377358490565)%\n"
     ]
    }
   ],
   "source": [
    "# Initial classifier\n",
    "type_initial = 'SVM'\n",
    "print(f'Initial classifier: {type_initial}')\n",
    "classifier = parameters(train_G, train_F, type_initial)\n",
    "print(f'Error of TEST (initial): {ERRS(test_G, test_F, classifier)}%')"
   ]
  },
  {
   "cell_type": "code",
   "execution_count": 104,
   "id": "bf3d65f0-aaa3-4da2-b88e-31fc59ed4815",
   "metadata": {},
   "outputs": [],
   "source": [
    "# Fusion and Refinement\n",
    "feature_dimension = G.shape[1]\n",
    "\n",
    "P = np.array(list(combinations(range(feature_dimension), 2)))\n",
    "FUSION = 4"
   ]
  },
  {
   "cell_type": "code",
   "execution_count": 105,
   "id": "5de7f470-55f2-467e-9d0e-48705ecb115d",
   "metadata": {},
   "outputs": [
    {
     "name": "stdout",
     "output_type": "stream",
     "text": [
      "Fusion of features: [0 5]\n"
     ]
    }
   ],
   "source": [
    "print(f'Fusion of features: {P[FUSION, :]}')\n",
    "I1 = P[FUSION, :]\n",
    "I2 = np.setdiff1d(np.arange(G.shape[1]), I1)"
   ]
  },
  {
   "cell_type": "code",
   "execution_count": 106,
   "id": "c9092f55-e1ed-450d-bd94-f960d6fe9e47",
   "metadata": {},
   "outputs": [],
   "source": [
    "REF_G = np.hstack((np.sum(G[:, I1] * classifier.coef_[0, I1], axis=1).reshape(-1, 1), G[:, I2]))\n",
    "REF_F = np.hstack((np.sum(F[:, I1] * classifier.coef_[0, I1], axis=1).reshape(-1, 1), F[:, I2]))\n"
   ]
  },
  {
   "cell_type": "code",
   "execution_count": 107,
   "id": "b4173061-b971-44e6-912f-72c05859e875",
   "metadata": {},
   "outputs": [],
   "source": [
    "test_REF_G = REF_G[:i1, :]\n",
    "train_REF_G = REF_G[i1:, :]\n",
    "test_REF_F = REF_F[:i2, :]\n",
    "train_REF_F = REF_F[i2:, :]"
   ]
  },
  {
   "cell_type": "code",
   "execution_count": 108,
   "id": "8ab2bbe5-c123-4c7c-ab27-77df0cced75e",
   "metadata": {},
   "outputs": [
    {
     "name": "stdout",
     "output_type": "stream",
     "text": [
      "Refinement classifier: LDA\n",
      "Error of TEST (refinement): (1.6853932584269704, 10.377358490566035)%\n"
     ]
    }
   ],
   "source": [
    "type_refinement = 'LDA'\n",
    "print(f'Refinement classifier: {type_refinement}')\n",
    "classifier = parameters(train_REF_G, train_REF_F, type_refinement)\n",
    "print(f'Error of TEST (refinement): {ERRS(test_REF_G, test_REF_F, classifier)}%')\n"
   ]
  },
  {
   "cell_type": "markdown",
   "id": "9b6072b9-69da-4ef8-a1a3-fecaa7dfd26c",
   "metadata": {},
   "source": [
    "## **K-fold cross validation**"
   ]
  },
  {
   "cell_type": "code",
   "execution_count": 109,
   "id": "75f5afdf-1658-4077-adfb-fe5b9ccec0ba",
   "metadata": {},
   "outputs": [
    {
     "name": "stdout",
     "output_type": "stream",
     "text": [
      "k = 5\n"
     ]
    }
   ],
   "source": [
    "# k-fold Cross Validation\n",
    "k = 5\n",
    "print(f'k = {k}')"
   ]
  },
  {
   "cell_type": "code",
   "execution_count": 110,
   "id": "7f226283-7d81-42f7-bd0f-e1aec7e5516c",
   "metadata": {},
   "outputs": [],
   "source": [
    "kf_G = KFold(n_splits=k, shuffle=True, random_state=42)\n",
    "kf_F = KFold(n_splits=k, shuffle=True, random_state=42)\n"
   ]
  },
  {
   "cell_type": "code",
   "execution_count": 111,
   "id": "8da87ede-07be-4f29-b2b5-a2e34ea65ab3",
   "metadata": {},
   "outputs": [
    {
     "name": "stdout",
     "output_type": "stream",
     "text": [
      "Initial classifier: SVM\n"
     ]
    }
   ],
   "source": [
    "# Initial classifier using k-fold\n",
    "type_initial = 'SVM'\n",
    "print(f'Initial classifier: {type_initial}')\n",
    "results = []"
   ]
  },
  {
   "cell_type": "code",
   "execution_count": 112,
   "id": "9fe8887f-e781-4182-85a7-09b17f3b6511",
   "metadata": {},
   "outputs": [],
   "source": [
    "for (train_index_G, test_index_G), (train_index_F, test_index_F) in zip(kf_G.split(G), kf_F.split(F)):\n",
    "    train_G, test_G = G[train_index_G], G[test_index_G]\n",
    "    train_F, test_F = F[train_index_F], F[test_index_F]\n",
    "    \n",
    "    classifier = parameters(train_G, train_F, type_initial)\n",
    "    results.append(ERRS(test_G, test_F, classifier))"
   ]
  },
  {
   "cell_type": "code",
   "execution_count": 113,
   "id": "b4ef1f84-518a-4a60-af00-d7115684d9dd",
   "metadata": {},
   "outputs": [
    {
     "name": "stdout",
     "output_type": "stream",
     "text": [
      "ACCURACY: 6.0206523377994055%\n",
      "DEVIATION: 5.903274106334933%\n"
     ]
    }
   ],
   "source": [
    "print(f'ACCURACY: {np.mean(results)}%')\n",
    "print(f'DEVIATION: {np.std(results)}%')\n"
   ]
  },
  {
   "cell_type": "code",
   "execution_count": 114,
   "id": "a59a1b0a-b0ed-4f4c-8c99-1e8e9e562395",
   "metadata": {},
   "outputs": [
    {
     "name": "stdout",
     "output_type": "stream",
     "text": [
      "Refinement classifier: LDA\n"
     ]
    }
   ],
   "source": [
    "# Refinement classifier using k-fold\n",
    "type_refinement = 'LDA'\n",
    "print(f'Refinement classifier: {type_refinement}')\n",
    "results = []"
   ]
  },
  {
   "cell_type": "code",
   "execution_count": 115,
   "id": "b5fb945c-f12f-40b9-9a85-bae0dcc39ff2",
   "metadata": {},
   "outputs": [],
   "source": [
    "for (train_index_G, test_index_G), (train_index_F, test_index_F) in zip(kf_G.split(G), kf_F.split(F)):\n",
    "    train_G, test_G = G[train_index_G], G[test_index_G]\n",
    "    train_F, test_F = F[train_index_F], F[test_index_F]\n",
    "    \n",
    "    classifier = parameters(train_G, train_F, type_refinement)\n",
    "    I1 = P[FUSION, :]\n",
    "    I2 = np.setdiff1d(np.arange(G.shape[1]), I1)\n",
    "\n",
    "    train_REF_G = np.hstack((np.sum(train_G[:, I1] * classifier.coef_[0, I1], axis=1).reshape(-1, 1), train_G[:, I2]))\n",
    "    train_REF_F = np.hstack((np.sum(train_F[:, I1] * classifier.coef_[0, I1], axis=1).reshape(-1, 1), train_F[:, I2]))\n",
    "\n",
    "    test_REF_G = np.hstack((np.sum(test_G[:, I1] * classifier.coef_[0, I1], axis=1).reshape(-1, 1), test_G[:, I2]))\n",
    "    test_REF_F = np.hstack((np.sum(test_F[:, I1] * classifier.coef_[0, I1], axis=1).reshape(-1, 1), test_F[:, I2]))\n",
    "\n",
    "    classifier = parameters(train_REF_G, train_REF_F, type_refinement)\n",
    "    results.append(ERRS(test_REF_G, test_REF_F, classifier))\n"
   ]
  },
  {
   "cell_type": "code",
   "execution_count": 116,
   "id": "9b3c13be-faaa-47f2-8f00-3ef5ca049297",
   "metadata": {},
   "outputs": [
    {
     "name": "stdout",
     "output_type": "stream",
     "text": [
      "ACCURACY: 5.702509631432003%\n",
      "DEVIATION: 6.472988941729058%\n"
     ]
    }
   ],
   "source": [
    "print(f'ACCURACY: {np.mean(results)}%')\n",
    "print(f'DEVIATION: {np.std(results)}%')"
   ]
  },
  {
   "cell_type": "code",
   "execution_count": null,
   "id": "99dd7ff6-2aec-4529-ae07-6f5fc1d508a6",
   "metadata": {},
   "outputs": [],
   "source": []
  }
 ],
 "metadata": {
  "kernelspec": {
   "display_name": "Python 3 (ipykernel)",
   "language": "python",
   "name": "python3"
  },
  "language_info": {
   "codemirror_mode": {
    "name": "ipython",
    "version": 3
   },
   "file_extension": ".py",
   "mimetype": "text/x-python",
   "name": "python",
   "nbconvert_exporter": "python",
   "pygments_lexer": "ipython3",
   "version": "3.9.2"
  }
 },
 "nbformat": 4,
 "nbformat_minor": 5
}
