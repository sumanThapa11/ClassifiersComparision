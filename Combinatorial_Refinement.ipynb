{
 "cells": [
  {
   "cell_type": "code",
   "execution_count": 161,
   "id": "f6ea06a2-ffd9-4322-bdaf-6913f3562f0a",
   "metadata": {},
   "outputs": [],
   "source": [
    "import numpy as np\n",
    "from sklearn import svm, discriminant_analysis\n",
    "from sklearn.metrics import accuracy_score\n",
    "from sklearn.utils import shuffle\n",
    "from itertools import combinations\n",
    "from sklearn.model_selection import KFold\n",
    "from sklearn.preprocessing import StandardScaler\n",
    "import pandas as pd\n",
    "from sklearn.model_selection import train_test_split, StratifiedKFold\n",
    "from sklearn.discriminant_analysis import LinearDiscriminantAnalysis as LDA\n",
    "\n",
    "import matplotlib.pyplot as plt\n",
    "from itertools import combinations\n",
    "\n",
    "# Ignoring warning\n",
    "import warnings\n",
    "warnings.filterwarnings(\"ignore\")"
   ]
  },
  {
   "cell_type": "code",
   "execution_count": 162,
   "id": "1685c7fc-ce36-4ba6-8709-90876017ef2e",
   "metadata": {},
   "outputs": [
    {
     "data": {
      "text/html": [
       "<div>\n",
       "<style scoped>\n",
       "    .dataframe tbody tr th:only-of-type {\n",
       "        vertical-align: middle;\n",
       "    }\n",
       "\n",
       "    .dataframe tbody tr th {\n",
       "        vertical-align: top;\n",
       "    }\n",
       "\n",
       "    .dataframe thead th {\n",
       "        text-align: right;\n",
       "    }\n",
       "</style>\n",
       "<table border=\"1\" class=\"dataframe\">\n",
       "  <thead>\n",
       "    <tr style=\"text-align: right;\">\n",
       "      <th></th>\n",
       "      <th>id</th>\n",
       "      <th>diagnosis</th>\n",
       "      <th>radius_mean</th>\n",
       "      <th>texture_mean</th>\n",
       "      <th>perimeter_mean</th>\n",
       "      <th>area_mean</th>\n",
       "      <th>smoothness_mean</th>\n",
       "      <th>compactness_mean</th>\n",
       "      <th>concavity_mean</th>\n",
       "      <th>concave points_mean</th>\n",
       "      <th>...</th>\n",
       "      <th>radius_worst</th>\n",
       "      <th>texture_worst</th>\n",
       "      <th>perimeter_worst</th>\n",
       "      <th>area_worst</th>\n",
       "      <th>smoothness_worst</th>\n",
       "      <th>compactness_worst</th>\n",
       "      <th>concavity_worst</th>\n",
       "      <th>concave points_worst</th>\n",
       "      <th>symmetry_worst</th>\n",
       "      <th>fractal_dimension_worst</th>\n",
       "    </tr>\n",
       "  </thead>\n",
       "  <tbody>\n",
       "    <tr>\n",
       "      <th>0</th>\n",
       "      <td>842302</td>\n",
       "      <td>M</td>\n",
       "      <td>17.99</td>\n",
       "      <td>10.38</td>\n",
       "      <td>122.80</td>\n",
       "      <td>1001.0</td>\n",
       "      <td>0.11840</td>\n",
       "      <td>0.27760</td>\n",
       "      <td>0.3001</td>\n",
       "      <td>0.14710</td>\n",
       "      <td>...</td>\n",
       "      <td>25.38</td>\n",
       "      <td>17.33</td>\n",
       "      <td>184.60</td>\n",
       "      <td>2019.0</td>\n",
       "      <td>0.1622</td>\n",
       "      <td>0.6656</td>\n",
       "      <td>0.7119</td>\n",
       "      <td>0.2654</td>\n",
       "      <td>0.4601</td>\n",
       "      <td>0.11890</td>\n",
       "    </tr>\n",
       "    <tr>\n",
       "      <th>1</th>\n",
       "      <td>842517</td>\n",
       "      <td>M</td>\n",
       "      <td>20.57</td>\n",
       "      <td>17.77</td>\n",
       "      <td>132.90</td>\n",
       "      <td>1326.0</td>\n",
       "      <td>0.08474</td>\n",
       "      <td>0.07864</td>\n",
       "      <td>0.0869</td>\n",
       "      <td>0.07017</td>\n",
       "      <td>...</td>\n",
       "      <td>24.99</td>\n",
       "      <td>23.41</td>\n",
       "      <td>158.80</td>\n",
       "      <td>1956.0</td>\n",
       "      <td>0.1238</td>\n",
       "      <td>0.1866</td>\n",
       "      <td>0.2416</td>\n",
       "      <td>0.1860</td>\n",
       "      <td>0.2750</td>\n",
       "      <td>0.08902</td>\n",
       "    </tr>\n",
       "    <tr>\n",
       "      <th>2</th>\n",
       "      <td>84300903</td>\n",
       "      <td>M</td>\n",
       "      <td>19.69</td>\n",
       "      <td>21.25</td>\n",
       "      <td>130.00</td>\n",
       "      <td>1203.0</td>\n",
       "      <td>0.10960</td>\n",
       "      <td>0.15990</td>\n",
       "      <td>0.1974</td>\n",
       "      <td>0.12790</td>\n",
       "      <td>...</td>\n",
       "      <td>23.57</td>\n",
       "      <td>25.53</td>\n",
       "      <td>152.50</td>\n",
       "      <td>1709.0</td>\n",
       "      <td>0.1444</td>\n",
       "      <td>0.4245</td>\n",
       "      <td>0.4504</td>\n",
       "      <td>0.2430</td>\n",
       "      <td>0.3613</td>\n",
       "      <td>0.08758</td>\n",
       "    </tr>\n",
       "    <tr>\n",
       "      <th>3</th>\n",
       "      <td>84348301</td>\n",
       "      <td>M</td>\n",
       "      <td>11.42</td>\n",
       "      <td>20.38</td>\n",
       "      <td>77.58</td>\n",
       "      <td>386.1</td>\n",
       "      <td>0.14250</td>\n",
       "      <td>0.28390</td>\n",
       "      <td>0.2414</td>\n",
       "      <td>0.10520</td>\n",
       "      <td>...</td>\n",
       "      <td>14.91</td>\n",
       "      <td>26.50</td>\n",
       "      <td>98.87</td>\n",
       "      <td>567.7</td>\n",
       "      <td>0.2098</td>\n",
       "      <td>0.8663</td>\n",
       "      <td>0.6869</td>\n",
       "      <td>0.2575</td>\n",
       "      <td>0.6638</td>\n",
       "      <td>0.17300</td>\n",
       "    </tr>\n",
       "    <tr>\n",
       "      <th>4</th>\n",
       "      <td>84358402</td>\n",
       "      <td>M</td>\n",
       "      <td>20.29</td>\n",
       "      <td>14.34</td>\n",
       "      <td>135.10</td>\n",
       "      <td>1297.0</td>\n",
       "      <td>0.10030</td>\n",
       "      <td>0.13280</td>\n",
       "      <td>0.1980</td>\n",
       "      <td>0.10430</td>\n",
       "      <td>...</td>\n",
       "      <td>22.54</td>\n",
       "      <td>16.67</td>\n",
       "      <td>152.20</td>\n",
       "      <td>1575.0</td>\n",
       "      <td>0.1374</td>\n",
       "      <td>0.2050</td>\n",
       "      <td>0.4000</td>\n",
       "      <td>0.1625</td>\n",
       "      <td>0.2364</td>\n",
       "      <td>0.07678</td>\n",
       "    </tr>\n",
       "  </tbody>\n",
       "</table>\n",
       "<p>5 rows × 32 columns</p>\n",
       "</div>"
      ],
      "text/plain": [
       "         id diagnosis  radius_mean  texture_mean  perimeter_mean  area_mean  \\\n",
       "0    842302         M        17.99         10.38          122.80     1001.0   \n",
       "1    842517         M        20.57         17.77          132.90     1326.0   \n",
       "2  84300903         M        19.69         21.25          130.00     1203.0   \n",
       "3  84348301         M        11.42         20.38           77.58      386.1   \n",
       "4  84358402         M        20.29         14.34          135.10     1297.0   \n",
       "\n",
       "   smoothness_mean  compactness_mean  concavity_mean  concave points_mean  \\\n",
       "0          0.11840           0.27760          0.3001              0.14710   \n",
       "1          0.08474           0.07864          0.0869              0.07017   \n",
       "2          0.10960           0.15990          0.1974              0.12790   \n",
       "3          0.14250           0.28390          0.2414              0.10520   \n",
       "4          0.10030           0.13280          0.1980              0.10430   \n",
       "\n",
       "   ...  radius_worst  texture_worst  perimeter_worst  area_worst  \\\n",
       "0  ...         25.38          17.33           184.60      2019.0   \n",
       "1  ...         24.99          23.41           158.80      1956.0   \n",
       "2  ...         23.57          25.53           152.50      1709.0   \n",
       "3  ...         14.91          26.50            98.87       567.7   \n",
       "4  ...         22.54          16.67           152.20      1575.0   \n",
       "\n",
       "   smoothness_worst  compactness_worst  concavity_worst  concave points_worst  \\\n",
       "0            0.1622             0.6656           0.7119                0.2654   \n",
       "1            0.1238             0.1866           0.2416                0.1860   \n",
       "2            0.1444             0.4245           0.4504                0.2430   \n",
       "3            0.2098             0.8663           0.6869                0.2575   \n",
       "4            0.1374             0.2050           0.4000                0.1625   \n",
       "\n",
       "   symmetry_worst  fractal_dimension_worst  \n",
       "0          0.4601                  0.11890  \n",
       "1          0.2750                  0.08902  \n",
       "2          0.3613                  0.08758  \n",
       "3          0.6638                  0.17300  \n",
       "4          0.2364                  0.07678  \n",
       "\n",
       "[5 rows x 32 columns]"
      ]
     },
     "execution_count": 162,
     "metadata": {},
     "output_type": "execute_result"
    }
   ],
   "source": [
    "# Loading the dataset\n",
    "data = pd.read_csv(\"./breast-cancer.csv\")\n",
    "data.head()"
   ]
  },
  {
   "cell_type": "code",
   "execution_count": 163,
   "id": "2b330451-dabf-40fa-b48d-90c279c2729e",
   "metadata": {},
   "outputs": [],
   "source": [
    "# dropping unnecessary columns\n",
    "data.drop('id',axis=1,inplace=True)"
   ]
  },
  {
   "cell_type": "code",
   "execution_count": 164,
   "id": "ad38485a-c65a-4e0d-9ca6-844a397109b7",
   "metadata": {},
   "outputs": [],
   "source": [
    "data['diagnosis'] = (data['diagnosis'] == 'M').astype(int) #encode the label into 1/0"
   ]
  },
  {
   "cell_type": "code",
   "execution_count": 165,
   "id": "ce48cf11-957e-4b19-b23c-f859983723df",
   "metadata": {},
   "outputs": [
    {
     "data": {
      "text/html": [
       "<div>\n",
       "<style scoped>\n",
       "    .dataframe tbody tr th:only-of-type {\n",
       "        vertical-align: middle;\n",
       "    }\n",
       "\n",
       "    .dataframe tbody tr th {\n",
       "        vertical-align: top;\n",
       "    }\n",
       "\n",
       "    .dataframe thead th {\n",
       "        text-align: right;\n",
       "    }\n",
       "</style>\n",
       "<table border=\"1\" class=\"dataframe\">\n",
       "  <thead>\n",
       "    <tr style=\"text-align: right;\">\n",
       "      <th></th>\n",
       "      <th>diagnosis</th>\n",
       "      <th>radius_mean</th>\n",
       "      <th>texture_mean</th>\n",
       "      <th>perimeter_mean</th>\n",
       "      <th>area_mean</th>\n",
       "      <th>smoothness_mean</th>\n",
       "      <th>compactness_mean</th>\n",
       "      <th>concavity_mean</th>\n",
       "      <th>concave points_mean</th>\n",
       "      <th>symmetry_mean</th>\n",
       "      <th>...</th>\n",
       "      <th>radius_worst</th>\n",
       "      <th>texture_worst</th>\n",
       "      <th>perimeter_worst</th>\n",
       "      <th>area_worst</th>\n",
       "      <th>smoothness_worst</th>\n",
       "      <th>compactness_worst</th>\n",
       "      <th>concavity_worst</th>\n",
       "      <th>concave points_worst</th>\n",
       "      <th>symmetry_worst</th>\n",
       "      <th>fractal_dimension_worst</th>\n",
       "    </tr>\n",
       "  </thead>\n",
       "  <tbody>\n",
       "    <tr>\n",
       "      <th>0</th>\n",
       "      <td>1</td>\n",
       "      <td>17.99</td>\n",
       "      <td>10.38</td>\n",
       "      <td>122.80</td>\n",
       "      <td>1001.0</td>\n",
       "      <td>0.11840</td>\n",
       "      <td>0.27760</td>\n",
       "      <td>0.3001</td>\n",
       "      <td>0.14710</td>\n",
       "      <td>0.2419</td>\n",
       "      <td>...</td>\n",
       "      <td>25.38</td>\n",
       "      <td>17.33</td>\n",
       "      <td>184.60</td>\n",
       "      <td>2019.0</td>\n",
       "      <td>0.1622</td>\n",
       "      <td>0.6656</td>\n",
       "      <td>0.7119</td>\n",
       "      <td>0.2654</td>\n",
       "      <td>0.4601</td>\n",
       "      <td>0.11890</td>\n",
       "    </tr>\n",
       "    <tr>\n",
       "      <th>1</th>\n",
       "      <td>1</td>\n",
       "      <td>20.57</td>\n",
       "      <td>17.77</td>\n",
       "      <td>132.90</td>\n",
       "      <td>1326.0</td>\n",
       "      <td>0.08474</td>\n",
       "      <td>0.07864</td>\n",
       "      <td>0.0869</td>\n",
       "      <td>0.07017</td>\n",
       "      <td>0.1812</td>\n",
       "      <td>...</td>\n",
       "      <td>24.99</td>\n",
       "      <td>23.41</td>\n",
       "      <td>158.80</td>\n",
       "      <td>1956.0</td>\n",
       "      <td>0.1238</td>\n",
       "      <td>0.1866</td>\n",
       "      <td>0.2416</td>\n",
       "      <td>0.1860</td>\n",
       "      <td>0.2750</td>\n",
       "      <td>0.08902</td>\n",
       "    </tr>\n",
       "    <tr>\n",
       "      <th>2</th>\n",
       "      <td>1</td>\n",
       "      <td>19.69</td>\n",
       "      <td>21.25</td>\n",
       "      <td>130.00</td>\n",
       "      <td>1203.0</td>\n",
       "      <td>0.10960</td>\n",
       "      <td>0.15990</td>\n",
       "      <td>0.1974</td>\n",
       "      <td>0.12790</td>\n",
       "      <td>0.2069</td>\n",
       "      <td>...</td>\n",
       "      <td>23.57</td>\n",
       "      <td>25.53</td>\n",
       "      <td>152.50</td>\n",
       "      <td>1709.0</td>\n",
       "      <td>0.1444</td>\n",
       "      <td>0.4245</td>\n",
       "      <td>0.4504</td>\n",
       "      <td>0.2430</td>\n",
       "      <td>0.3613</td>\n",
       "      <td>0.08758</td>\n",
       "    </tr>\n",
       "    <tr>\n",
       "      <th>3</th>\n",
       "      <td>1</td>\n",
       "      <td>11.42</td>\n",
       "      <td>20.38</td>\n",
       "      <td>77.58</td>\n",
       "      <td>386.1</td>\n",
       "      <td>0.14250</td>\n",
       "      <td>0.28390</td>\n",
       "      <td>0.2414</td>\n",
       "      <td>0.10520</td>\n",
       "      <td>0.2597</td>\n",
       "      <td>...</td>\n",
       "      <td>14.91</td>\n",
       "      <td>26.50</td>\n",
       "      <td>98.87</td>\n",
       "      <td>567.7</td>\n",
       "      <td>0.2098</td>\n",
       "      <td>0.8663</td>\n",
       "      <td>0.6869</td>\n",
       "      <td>0.2575</td>\n",
       "      <td>0.6638</td>\n",
       "      <td>0.17300</td>\n",
       "    </tr>\n",
       "    <tr>\n",
       "      <th>4</th>\n",
       "      <td>1</td>\n",
       "      <td>20.29</td>\n",
       "      <td>14.34</td>\n",
       "      <td>135.10</td>\n",
       "      <td>1297.0</td>\n",
       "      <td>0.10030</td>\n",
       "      <td>0.13280</td>\n",
       "      <td>0.1980</td>\n",
       "      <td>0.10430</td>\n",
       "      <td>0.1809</td>\n",
       "      <td>...</td>\n",
       "      <td>22.54</td>\n",
       "      <td>16.67</td>\n",
       "      <td>152.20</td>\n",
       "      <td>1575.0</td>\n",
       "      <td>0.1374</td>\n",
       "      <td>0.2050</td>\n",
       "      <td>0.4000</td>\n",
       "      <td>0.1625</td>\n",
       "      <td>0.2364</td>\n",
       "      <td>0.07678</td>\n",
       "    </tr>\n",
       "  </tbody>\n",
       "</table>\n",
       "<p>5 rows × 31 columns</p>\n",
       "</div>"
      ],
      "text/plain": [
       "   diagnosis  radius_mean  texture_mean  perimeter_mean  area_mean  \\\n",
       "0          1        17.99         10.38          122.80     1001.0   \n",
       "1          1        20.57         17.77          132.90     1326.0   \n",
       "2          1        19.69         21.25          130.00     1203.0   \n",
       "3          1        11.42         20.38           77.58      386.1   \n",
       "4          1        20.29         14.34          135.10     1297.0   \n",
       "\n",
       "   smoothness_mean  compactness_mean  concavity_mean  concave points_mean  \\\n",
       "0          0.11840           0.27760          0.3001              0.14710   \n",
       "1          0.08474           0.07864          0.0869              0.07017   \n",
       "2          0.10960           0.15990          0.1974              0.12790   \n",
       "3          0.14250           0.28390          0.2414              0.10520   \n",
       "4          0.10030           0.13280          0.1980              0.10430   \n",
       "\n",
       "   symmetry_mean  ...  radius_worst  texture_worst  perimeter_worst  \\\n",
       "0         0.2419  ...         25.38          17.33           184.60   \n",
       "1         0.1812  ...         24.99          23.41           158.80   \n",
       "2         0.2069  ...         23.57          25.53           152.50   \n",
       "3         0.2597  ...         14.91          26.50            98.87   \n",
       "4         0.1809  ...         22.54          16.67           152.20   \n",
       "\n",
       "   area_worst  smoothness_worst  compactness_worst  concavity_worst  \\\n",
       "0      2019.0            0.1622             0.6656           0.7119   \n",
       "1      1956.0            0.1238             0.1866           0.2416   \n",
       "2      1709.0            0.1444             0.4245           0.4504   \n",
       "3       567.7            0.2098             0.8663           0.6869   \n",
       "4      1575.0            0.1374             0.2050           0.4000   \n",
       "\n",
       "   concave points_worst  symmetry_worst  fractal_dimension_worst  \n",
       "0                0.2654          0.4601                  0.11890  \n",
       "1                0.1860          0.2750                  0.08902  \n",
       "2                0.2430          0.3613                  0.08758  \n",
       "3                0.2575          0.6638                  0.17300  \n",
       "4                0.1625          0.2364                  0.07678  \n",
       "\n",
       "[5 rows x 31 columns]"
      ]
     },
     "execution_count": 165,
     "metadata": {},
     "output_type": "execute_result"
    }
   ],
   "source": [
    "data.head()"
   ]
  },
  {
   "cell_type": "code",
   "execution_count": 166,
   "id": "995820a7-8d61-4d25-b850-1bcff92e93d2",
   "metadata": {},
   "outputs": [],
   "source": [
    "# Separating the features and class label\n",
    "class_label = 'diagnosis'  # the label column is named 'diagnosis'\n",
    "features = data.columns[1:]  # All columns except the first one (diagnosis)\n",
    "i1 = 0  # Class 0\n",
    "i2 = 1  # Class 1\n"
   ]
  },
  {
   "cell_type": "code",
   "execution_count": 167,
   "id": "d4aad752-a4a9-4560-99bc-9889ae4e41e5",
   "metadata": {},
   "outputs": [],
   "source": [
    "# Extracting classes\n",
    "C1 = data[data[class_label] == i1].loc[:, features].values\n",
    "C2 = data[data[class_label] == i2].loc[:, features].values"
   ]
  },
  {
   "cell_type": "code",
   "execution_count": 168,
   "id": "e7d08e37-26dc-4018-8d6f-b14334c569f4",
   "metadata": {},
   "outputs": [],
   "source": [
    "B = C1  # Class B\n",
    "M = C2  # Class M"
   ]
  },
  {
   "cell_type": "code",
   "execution_count": 169,
   "id": "1778fce7-ed96-4985-8fd1-c07b61a55540",
   "metadata": {},
   "outputs": [
    {
     "name": "stdout",
     "output_type": "stream",
     "text": [
      "************   seeds  ***************\n",
      "SAMPLE SIZE : \n",
      "  # OBJECTS : 569\n",
      "  # FEATURES: 30\n",
      " BALANCE : 1.6839622641509433\n"
     ]
    }
   ],
   "source": [
    "print('************   seeds  ***************')\n",
    "print('SAMPLE SIZE : ')\n",
    "print(f'  # OBJECTS : {len(B) + len(M)}')\n",
    "print(f'  # FEATURES: {B.shape[1]}')\n",
    "\n",
    "print(f' BALANCE : {len(B) / len(M)}')"
   ]
  },
  {
   "cell_type": "code",
   "execution_count": 170,
   "id": "ec06855d-8052-4a3d-90a2-95ba0ab3dbba",
   "metadata": {},
   "outputs": [
    {
     "name": "stdout",
     "output_type": "stream",
     "text": [
      "within random permutation of objects\n"
     ]
    }
   ],
   "source": [
    "# Random permutation of objects in data\n",
    "PP = 1\n",
    "if PP == 1:\n",
    "    B = B[np.random.permutation(len(B))]\n",
    "    M = M[np.random.permutation(len(M))]\n",
    "    print('within random permutation of objects')\n",
    "else:\n",
    "    print('without random permutation of objects')"
   ]
  },
  {
   "cell_type": "code",
   "execution_count": 171,
   "id": "239a05e2-1262-4df0-b259-ad635da61a9e",
   "metadata": {},
   "outputs": [
    {
     "name": "stdout",
     "output_type": "stream",
     "text": [
      "with normalisation\n"
     ]
    }
   ],
   "source": [
    "# Normalization to mean=0 and standard deviation=1 with respect to class B\n",
    "NN = 1\n",
    "if NN == 1:\n",
    "    print('with normalisation')\n",
    "    \n",
    "    # Normalize data with respect to B using StandardScaler\n",
    "    scaler = StandardScaler()\n",
    "    B = scaler.fit_transform(B)  # Normalize B\n",
    "    M = scaler.transform(M)  # Normalize M based on B's stats\n",
    "else:\n",
    "    print('without normalisation')"
   ]
  },
  {
   "cell_type": "code",
   "execution_count": 172,
   "id": "f8200a90-7af2-4f7f-8890-d603aabb47df",
   "metadata": {},
   "outputs": [],
   "source": [
    "# Parameters function to calculate LDA or SVM classification\n",
    "def parameters(x2, x3, classifier_type):\n",
    "    err = 0\n",
    "    vector = []\n",
    "    \n",
    "    y2 = np.zeros(len(x2))\n",
    "    y3 = np.ones(len(x3))\n",
    "\n",
    "    if classifier_type == 'LDA':\n",
    "        model = LDA()\n",
    "        model.fit(np.vstack((x2, x3)), np.hstack((y2, y3)))\n",
    "        classifier = np.hstack((model.coef_[0], model.intercept_))\n",
    "\n",
    "    elif classifier_type == 'SVM':\n",
    "        model = svm.SVC(kernel='linear')\n",
    "        model.fit(np.vstack((x2, x3)), np.hstack((y2, y3)))\n",
    "        classifier = np.hstack((-model.coef_[0], model.intercept_))\n",
    "    \n",
    "    return classifier, err, classifier_type, vector"
   ]
  },
  {
   "cell_type": "code",
   "execution_count": 173,
   "id": "16d31748-b729-4310-8820-1004e328160e",
   "metadata": {},
   "outputs": [],
   "source": [
    "# ERRS function to calculate classification accuracy\n",
    "def ERRS(C1_test, C2_test, classifier):\n",
    "    count = 0\n",
    "    for i in range(len(C2_test)):\n",
    "        if np.dot(C2_test[i], classifier[:-1]) - classifier[-1] >= 0:\n",
    "            pass\n",
    "        else:\n",
    "            count += 1\n",
    "\n",
    "    for i in range(len(C1_test)):\n",
    "        if np.dot(C1_test[i], classifier[:-1]) - classifier[-1] >= 0:\n",
    "            count += 1\n",
    "        else:\n",
    "            pass\n",
    "\n",
    "    main = count / (len(C1_test) + len(C2_test)) * 100\n",
    "    return main"
   ]
  },
  {
   "cell_type": "code",
   "execution_count": 174,
   "id": "abe4fbb2-2ee2-4972-a5d8-6730252280bb",
   "metadata": {},
   "outputs": [],
   "source": [
    "# Initial classification\n",
    "initial = 'SVM'\n",
    "ref = 'SVM'"
   ]
  },
  {
   "cell_type": "code",
   "execution_count": 175,
   "id": "317b53aa-c338-4bcb-85f1-3b0d88d9b062",
   "metadata": {},
   "outputs": [
    {
     "name": "stdout",
     "output_type": "stream",
     "text": [
      "Refinement in d-1 dimensional space\n"
     ]
    }
   ],
   "source": [
    "print('Refinement in d-1 dimensional space')"
   ]
  },
  {
   "cell_type": "code",
   "execution_count": 176,
   "id": "eb1b8dde-33f6-4e7e-89f6-38a044e95764",
   "metadata": {},
   "outputs": [
    {
     "name": "stdout",
     "output_type": "stream",
     "text": [
      "Initial Accuracy: 98.94551845342706%\n"
     ]
    }
   ],
   "source": [
    "classifier_ini, err, initial, vector = parameters(B, M, initial)\n",
    "print(f'Initial Accuracy: {ERRS(B, M, classifier_ini)}%')"
   ]
  },
  {
   "cell_type": "code",
   "execution_count": 177,
   "id": "ffdad03c-d143-46b8-a2cb-4b683e6953ea",
   "metadata": {},
   "outputs": [],
   "source": [
    "# Generate all possible combinations of k=2 elements from d dimensions\n",
    "k = 2\n",
    "P = list(combinations(range(B.shape[1]), k))  # all possible combinations of k elements from 1:d\n",
    "\n",
    "RESULTS = []"
   ]
  },
  {
   "cell_type": "code",
   "execution_count": 178,
   "id": "e4569dd1-7be0-4098-ab6c-045860b9de3b",
   "metadata": {},
   "outputs": [],
   "source": [
    "for combo in P:\n",
    "    I1 = list(combo)  # Elements to fuse (reduce)\n",
    "    I2 = list(set(range(B.shape[1])) - set(I1))  # Remaining dimensions\n",
    "    \n",
    "    # Dimensionality reduction\n",
    "    REF_B = np.column_stack((np.sum(B[:, I1] * classifier_ini[I1], axis=1), B[:, I2]))\n",
    "    REF_M = np.column_stack((np.sum(M[:, I1] * classifier_ini[I1], axis=1), M[:, I2]))\n",
    "\n",
    "    # Refinement\n",
    "    classifier, err, ref, vector = parameters(REF_B, REF_M, ref)\n",
    "    \n",
    "    # Store results (combination and accuracy)\n",
    "    accuracy = ERRS(REF_B, REF_M, classifier)\n",
    "    RESULTS.append([*I1, accuracy])"
   ]
  },
  {
   "cell_type": "code",
   "execution_count": 179,
   "id": "3cd4a4d3-1833-4792-acef-d40ddd599107",
   "metadata": {},
   "outputs": [],
   "source": [
    "# Convert results to a NumPy array for easier manipulation or display\n",
    "RESULTS = np.array(RESULTS)"
   ]
  },
  {
   "cell_type": "code",
   "execution_count": 180,
   "id": "5cdc8759-d0c4-4e6d-a94d-270576859ae0",
   "metadata": {},
   "outputs": [
    {
     "name": "stdout",
     "output_type": "stream",
     "text": [
      "\n",
      "Results of refinement:\n",
      "[[ 0.          1.         98.94551845]\n",
      " [ 0.          2.         98.94551845]\n",
      " [ 0.          3.         98.94551845]\n",
      " [ 0.          4.         98.94551845]\n",
      " [ 0.          5.         98.94551845]\n",
      " [ 0.          6.         98.94551845]\n",
      " [ 0.          7.         98.94551845]\n",
      " [ 0.          8.         98.94551845]\n",
      " [ 0.          9.         98.94551845]\n",
      " [ 0.         10.         98.94551845]\n",
      " [ 0.         11.         99.12126538]\n",
      " [ 0.         12.         98.94551845]\n",
      " [ 0.         13.         98.94551845]\n",
      " [ 0.         14.         99.12126538]\n",
      " [ 0.         15.         98.94551845]\n",
      " [ 0.         16.         98.94551845]\n",
      " [ 0.         17.         98.76977153]\n",
      " [ 0.         18.         98.76977153]\n",
      " [ 0.         19.         98.94551845]\n",
      " [ 0.         20.         98.94551845]\n",
      " [ 0.         21.         98.94551845]\n",
      " [ 0.         22.         98.94551845]\n",
      " [ 0.         23.         98.94551845]\n",
      " [ 0.         24.         98.76977153]\n",
      " [ 0.         25.         98.94551845]\n",
      " [ 0.         26.         98.94551845]\n",
      " [ 0.         27.         98.94551845]\n",
      " [ 0.         28.         98.94551845]\n",
      " [ 0.         29.         98.94551845]\n",
      " [ 1.          2.         98.94551845]\n",
      " [ 1.          3.         98.94551845]\n",
      " [ 1.          4.         98.94551845]\n",
      " [ 1.          5.         98.94551845]\n",
      " [ 1.          6.         98.94551845]\n",
      " [ 1.          7.         98.94551845]\n",
      " [ 1.          8.         98.94551845]\n",
      " [ 1.          9.         98.94551845]\n",
      " [ 1.         10.         98.94551845]\n",
      " [ 1.         11.         98.94551845]\n",
      " [ 1.         12.         98.94551845]\n",
      " [ 1.         13.         98.94551845]\n",
      " [ 1.         14.         99.12126538]\n",
      " [ 1.         15.         98.94551845]\n",
      " [ 1.         16.         98.94551845]\n",
      " [ 1.         17.         98.94551845]\n",
      " [ 1.         18.         98.76977153]\n",
      " [ 1.         19.         98.94551845]\n",
      " [ 1.         20.         98.94551845]\n",
      " [ 1.         21.         98.94551845]\n",
      " [ 1.         22.         98.94551845]\n",
      " [ 1.         23.         98.94551845]\n",
      " [ 1.         24.         98.76977153]\n",
      " [ 1.         25.         98.94551845]\n",
      " [ 1.         26.         98.94551845]\n",
      " [ 1.         27.         98.94551845]\n",
      " [ 1.         28.         98.94551845]\n",
      " [ 1.         29.         99.12126538]\n",
      " [ 2.          3.         98.94551845]\n",
      " [ 2.          4.         98.94551845]\n",
      " [ 2.          5.         98.94551845]\n",
      " [ 2.          6.         98.94551845]\n",
      " [ 2.          7.         98.94551845]\n",
      " [ 2.          8.         98.94551845]\n",
      " [ 2.          9.         98.94551845]\n",
      " [ 2.         10.         98.94551845]\n",
      " [ 2.         11.         99.12126538]\n",
      " [ 2.         12.         98.94551845]\n",
      " [ 2.         13.         98.94551845]\n",
      " [ 2.         14.         99.12126538]\n",
      " [ 2.         15.         98.94551845]\n",
      " [ 2.         16.         98.94551845]\n",
      " [ 2.         17.         98.76977153]\n",
      " [ 2.         18.         98.76977153]\n",
      " [ 2.         19.         98.94551845]\n",
      " [ 2.         20.         98.94551845]\n",
      " [ 2.         21.         98.94551845]\n",
      " [ 2.         22.         98.94551845]\n",
      " [ 2.         23.         98.94551845]\n",
      " [ 2.         24.         98.76977153]\n",
      " [ 2.         25.         98.94551845]\n",
      " [ 2.         26.         98.94551845]\n",
      " [ 2.         27.         98.94551845]\n",
      " [ 2.         28.         98.94551845]\n",
      " [ 2.         29.         99.12126538]\n",
      " [ 3.          4.         98.94551845]\n",
      " [ 3.          5.         98.94551845]\n",
      " [ 3.          6.         98.94551845]\n",
      " [ 3.          7.         98.94551845]\n",
      " [ 3.          8.         98.94551845]\n",
      " [ 3.          9.         98.94551845]\n",
      " [ 3.         10.         98.94551845]\n",
      " [ 3.         11.         99.12126538]\n",
      " [ 3.         12.         98.94551845]\n",
      " [ 3.         13.         98.94551845]\n",
      " [ 3.         14.         99.12126538]\n",
      " [ 3.         15.         98.94551845]\n",
      " [ 3.         16.         98.94551845]\n",
      " [ 3.         17.         98.76977153]\n",
      " [ 3.         18.         98.76977153]\n",
      " [ 3.         19.         98.94551845]\n",
      " [ 3.         20.         98.94551845]\n",
      " [ 3.         21.         98.94551845]\n",
      " [ 3.         22.         98.94551845]\n",
      " [ 3.         23.         98.94551845]\n",
      " [ 3.         24.         98.76977153]\n",
      " [ 3.         25.         98.94551845]\n",
      " [ 3.         26.         98.94551845]\n",
      " [ 3.         27.         98.94551845]\n",
      " [ 3.         28.         98.94551845]\n",
      " [ 3.         29.         98.94551845]\n",
      " [ 4.          5.         98.94551845]\n",
      " [ 4.          6.         98.94551845]\n",
      " [ 4.          7.         98.94551845]\n",
      " [ 4.          8.         98.94551845]\n",
      " [ 4.          9.         98.94551845]\n",
      " [ 4.         10.         98.94551845]\n",
      " [ 4.         11.         99.12126538]\n",
      " [ 4.         12.         98.94551845]\n",
      " [ 4.         13.         98.94551845]\n",
      " [ 4.         14.         99.12126538]\n",
      " [ 4.         15.         98.94551845]\n",
      " [ 4.         16.         98.94551845]\n",
      " [ 4.         17.         98.76977153]\n",
      " [ 4.         18.         98.76977153]\n",
      " [ 4.         19.         98.94551845]\n",
      " [ 4.         20.         98.94551845]\n",
      " [ 4.         21.         98.94551845]\n",
      " [ 4.         22.         98.94551845]\n",
      " [ 4.         23.         98.94551845]\n",
      " [ 4.         24.         98.76977153]\n",
      " [ 4.         25.         98.94551845]\n",
      " [ 4.         26.         98.94551845]\n",
      " [ 4.         27.         98.94551845]\n",
      " [ 4.         28.         98.94551845]\n",
      " [ 4.         29.         98.94551845]\n",
      " [ 5.          6.         98.94551845]\n",
      " [ 5.          7.         98.94551845]\n",
      " [ 5.          8.         98.94551845]\n",
      " [ 5.          9.         98.94551845]\n",
      " [ 5.         10.         98.94551845]\n",
      " [ 5.         11.         99.12126538]\n",
      " [ 5.         12.         98.94551845]\n",
      " [ 5.         13.         98.94551845]\n",
      " [ 5.         14.         98.94551845]\n",
      " [ 5.         15.         98.94551845]\n",
      " [ 5.         16.         98.94551845]\n",
      " [ 5.         17.         98.94551845]\n",
      " [ 5.         18.         98.76977153]\n",
      " [ 5.         19.         98.94551845]\n",
      " [ 5.         20.         98.94551845]\n",
      " [ 5.         21.         98.94551845]\n",
      " [ 5.         22.         98.94551845]\n",
      " [ 5.         23.         98.94551845]\n",
      " [ 5.         24.         98.94551845]\n",
      " [ 5.         25.         98.94551845]\n",
      " [ 5.         26.         98.94551845]\n",
      " [ 5.         27.         98.94551845]\n",
      " [ 5.         28.         98.94551845]\n",
      " [ 5.         29.         98.94551845]\n",
      " [ 6.          7.         98.94551845]\n",
      " [ 6.          8.         98.94551845]\n",
      " [ 6.          9.         98.94551845]\n",
      " [ 6.         10.         98.94551845]\n",
      " [ 6.         11.         98.94551845]\n",
      " [ 6.         12.         98.94551845]\n",
      " [ 6.         13.         98.94551845]\n",
      " [ 6.         14.         99.12126538]\n",
      " [ 6.         15.         98.94551845]\n",
      " [ 6.         16.         98.94551845]\n",
      " [ 6.         17.         98.94551845]\n",
      " [ 6.         18.         98.76977153]\n",
      " [ 6.         19.         98.94551845]\n",
      " [ 6.         20.         98.94551845]\n",
      " [ 6.         21.         98.94551845]\n",
      " [ 6.         22.         98.94551845]\n",
      " [ 6.         23.         98.94551845]\n",
      " [ 6.         24.         98.94551845]\n",
      " [ 6.         25.         98.94551845]\n",
      " [ 6.         26.         98.94551845]\n",
      " [ 6.         27.         98.94551845]\n",
      " [ 6.         28.         98.94551845]\n",
      " [ 6.         29.         98.94551845]\n",
      " [ 7.          8.         98.94551845]\n",
      " [ 7.          9.         98.94551845]\n",
      " [ 7.         10.         98.94551845]\n",
      " [ 7.         11.         98.94551845]\n",
      " [ 7.         12.         98.94551845]\n",
      " [ 7.         13.         98.94551845]\n",
      " [ 7.         14.         98.94551845]\n",
      " [ 7.         15.         98.94551845]\n",
      " [ 7.         16.         98.94551845]\n",
      " [ 7.         17.         98.94551845]\n",
      " [ 7.         18.         98.94551845]\n",
      " [ 7.         19.         98.94551845]\n",
      " [ 7.         20.         98.94551845]\n",
      " [ 7.         21.         98.94551845]\n",
      " [ 7.         22.         98.94551845]\n",
      " [ 7.         23.         98.94551845]\n",
      " [ 7.         24.         98.94551845]\n",
      " [ 7.         25.         98.94551845]\n",
      " [ 7.         26.         98.94551845]\n",
      " [ 7.         27.         98.94551845]\n",
      " [ 7.         28.         98.94551845]\n",
      " [ 7.         29.         98.94551845]\n",
      " [ 8.          9.         98.94551845]\n",
      " [ 8.         10.         98.94551845]\n",
      " [ 8.         11.         99.12126538]\n",
      " [ 8.         12.         98.94551845]\n",
      " [ 8.         13.         98.94551845]\n",
      " [ 8.         14.         99.12126538]\n",
      " [ 8.         15.         98.94551845]\n",
      " [ 8.         16.         98.94551845]\n",
      " [ 8.         17.         98.76977153]\n",
      " [ 8.         18.         98.76977153]\n",
      " [ 8.         19.         98.94551845]\n",
      " [ 8.         20.         98.94551845]\n",
      " [ 8.         21.         98.94551845]\n",
      " [ 8.         22.         98.94551845]\n",
      " [ 8.         23.         98.94551845]\n",
      " [ 8.         24.         98.76977153]\n",
      " [ 8.         25.         98.94551845]\n",
      " [ 8.         26.         98.94551845]\n",
      " [ 8.         27.         99.12126538]\n",
      " [ 8.         28.         98.94551845]\n",
      " [ 8.         29.         98.94551845]\n",
      " [ 9.         10.         98.94551845]\n",
      " [ 9.         11.         98.94551845]\n",
      " [ 9.         12.         98.94551845]\n",
      " [ 9.         13.         98.94551845]\n",
      " [ 9.         14.         99.12126538]\n",
      " [ 9.         15.         98.94551845]\n",
      " [ 9.         16.         98.94551845]\n",
      " [ 9.         17.         98.76977153]\n",
      " [ 9.         18.         98.76977153]\n",
      " [ 9.         19.         98.94551845]\n",
      " [ 9.         20.         98.94551845]\n",
      " [ 9.         21.         98.94551845]\n",
      " [ 9.         22.         98.94551845]\n",
      " [ 9.         23.         98.94551845]\n",
      " [ 9.         24.         98.76977153]\n",
      " [ 9.         25.         98.94551845]\n",
      " [ 9.         26.         98.94551845]\n",
      " [ 9.         27.         99.12126538]\n",
      " [ 9.         28.         98.94551845]\n",
      " [ 9.         29.         99.12126538]\n",
      " [10.         11.         99.12126538]\n",
      " [10.         12.         98.94551845]\n",
      " [10.         13.         98.94551845]\n",
      " [10.         14.         99.12126538]\n",
      " [10.         15.         98.94551845]\n",
      " [10.         16.         98.94551845]\n",
      " [10.         17.         98.76977153]\n",
      " [10.         18.         98.76977153]\n",
      " [10.         19.         98.94551845]\n",
      " [10.         20.         98.94551845]\n",
      " [10.         21.         98.94551845]\n",
      " [10.         22.         98.94551845]\n",
      " [10.         23.         98.94551845]\n",
      " [10.         24.         98.76977153]\n",
      " [10.         25.         98.76977153]\n",
      " [10.         26.         98.94551845]\n",
      " [10.         27.         98.94551845]\n",
      " [10.         28.         98.94551845]\n",
      " [10.         29.         98.94551845]\n",
      " [11.         12.         98.94551845]\n",
      " [11.         13.         98.94551845]\n",
      " [11.         14.         99.12126538]\n",
      " [11.         15.         98.94551845]\n",
      " [11.         16.         98.94551845]\n",
      " [11.         17.         98.94551845]\n",
      " [11.         18.         98.94551845]\n",
      " [11.         19.         98.94551845]\n",
      " [11.         20.         99.12126538]\n",
      " [11.         21.         98.94551845]\n",
      " [11.         22.         99.12126538]\n",
      " [11.         23.         98.94551845]\n",
      " [11.         24.         98.94551845]\n",
      " [11.         25.         99.12126538]\n",
      " [11.         26.         98.94551845]\n",
      " [11.         27.         99.12126538]\n",
      " [11.         28.         98.94551845]\n",
      " [11.         29.         99.12126538]\n",
      " [12.         13.         98.94551845]\n",
      " [12.         14.         99.12126538]\n",
      " [12.         15.         98.94551845]\n",
      " [12.         16.         98.94551845]\n",
      " [12.         17.         98.76977153]\n",
      " [12.         18.         98.76977153]\n",
      " [12.         19.         98.94551845]\n",
      " [12.         20.         98.94551845]\n",
      " [12.         21.         98.94551845]\n",
      " [12.         22.         98.94551845]\n",
      " [12.         23.         98.94551845]\n",
      " [12.         24.         98.76977153]\n",
      " [12.         25.         98.76977153]\n",
      " [12.         26.         98.94551845]\n",
      " [12.         27.         98.94551845]\n",
      " [12.         28.         98.94551845]\n",
      " [12.         29.         98.94551845]\n",
      " [13.         14.         98.94551845]\n",
      " [13.         15.         98.94551845]\n",
      " [13.         16.         98.94551845]\n",
      " [13.         17.         98.94551845]\n",
      " [13.         18.         98.94551845]\n",
      " [13.         19.         98.94551845]\n",
      " [13.         20.         98.94551845]\n",
      " [13.         21.         98.94551845]\n",
      " [13.         22.         98.94551845]\n",
      " [13.         23.         98.94551845]\n",
      " [13.         24.         98.94551845]\n",
      " [13.         25.         98.94551845]\n",
      " [13.         26.         98.94551845]\n",
      " [13.         27.         98.94551845]\n",
      " [13.         28.         98.94551845]\n",
      " [13.         29.         98.94551845]\n",
      " [14.         15.         99.12126538]\n",
      " [14.         16.         98.94551845]\n",
      " [14.         17.         98.94551845]\n",
      " [14.         18.         98.94551845]\n",
      " [14.         19.         98.94551845]\n",
      " [14.         20.         99.12126538]\n",
      " [14.         21.         98.94551845]\n",
      " [14.         22.         99.12126538]\n",
      " [14.         23.         98.94551845]\n",
      " [14.         24.         98.94551845]\n",
      " [14.         25.         98.94551845]\n",
      " [14.         26.         98.94551845]\n",
      " [14.         27.         99.12126538]\n",
      " [14.         28.         98.94551845]\n",
      " [14.         29.         99.12126538]\n",
      " [15.         16.         98.94551845]\n",
      " [15.         17.         98.76977153]\n",
      " [15.         18.         98.94551845]\n",
      " [15.         19.         98.94551845]\n",
      " [15.         20.         98.94551845]\n",
      " [15.         21.         98.94551845]\n",
      " [15.         22.         98.94551845]\n",
      " [15.         23.         98.94551845]\n",
      " [15.         24.         98.76977153]\n",
      " [15.         25.         99.12126538]\n",
      " [15.         26.         98.94551845]\n",
      " [15.         27.         99.12126538]\n",
      " [15.         28.         98.94551845]\n",
      " [15.         29.         98.94551845]\n",
      " [16.         17.         98.94551845]\n",
      " [16.         18.         98.76977153]\n",
      " [16.         19.         98.94551845]\n",
      " [16.         20.         98.94551845]\n",
      " [16.         21.         98.94551845]\n",
      " [16.         22.         98.94551845]\n",
      " [16.         23.         98.94551845]\n",
      " [16.         24.         98.94551845]\n",
      " [16.         25.         98.94551845]\n",
      " [16.         26.         98.94551845]\n",
      " [16.         27.         98.94551845]\n",
      " [16.         28.         98.94551845]\n",
      " [16.         29.         98.94551845]\n",
      " [17.         18.         98.76977153]\n",
      " [17.         19.         98.94551845]\n",
      " [17.         20.         98.76977153]\n",
      " [17.         21.         98.94551845]\n",
      " [17.         22.         98.76977153]\n",
      " [17.         23.         98.94551845]\n",
      " [17.         24.         98.76977153]\n",
      " [17.         25.         98.94551845]\n",
      " [17.         26.         98.94551845]\n",
      " [17.         27.         98.94551845]\n",
      " [17.         28.         98.94551845]\n",
      " [17.         29.         98.94551845]\n",
      " [18.         19.         98.94551845]\n",
      " [18.         20.         98.76977153]\n",
      " [18.         21.         98.94551845]\n",
      " [18.         22.         98.76977153]\n",
      " [18.         23.         98.94551845]\n",
      " [18.         24.         98.76977153]\n",
      " [18.         25.         98.76977153]\n",
      " [18.         26.         98.94551845]\n",
      " [18.         27.         98.76977153]\n",
      " [18.         28.         98.94551845]\n",
      " [18.         29.         98.94551845]\n",
      " [19.         20.         98.94551845]\n",
      " [19.         21.         99.12126538]\n",
      " [19.         22.         98.94551845]\n",
      " [19.         23.         98.94551845]\n",
      " [19.         24.         98.94551845]\n",
      " [19.         25.         98.94551845]\n",
      " [19.         26.         98.94551845]\n",
      " [19.         27.         98.94551845]\n",
      " [19.         28.         98.94551845]\n",
      " [19.         29.         98.94551845]\n",
      " [20.         21.         98.94551845]\n",
      " [20.         22.         98.94551845]\n",
      " [20.         23.         98.94551845]\n",
      " [20.         24.         98.94551845]\n",
      " [20.         25.         98.94551845]\n",
      " [20.         26.         98.94551845]\n",
      " [20.         27.         98.94551845]\n",
      " [20.         28.         98.94551845]\n",
      " [20.         29.         99.12126538]\n",
      " [21.         22.         98.94551845]\n",
      " [21.         23.         98.94551845]\n",
      " [21.         24.         98.94551845]\n",
      " [21.         25.         98.94551845]\n",
      " [21.         26.         98.94551845]\n",
      " [21.         27.         98.94551845]\n",
      " [21.         28.         98.94551845]\n",
      " [21.         29.         98.94551845]\n",
      " [22.         23.         98.94551845]\n",
      " [22.         24.         98.76977153]\n",
      " [22.         25.         98.94551845]\n",
      " [22.         26.         98.94551845]\n",
      " [22.         27.         98.94551845]\n",
      " [22.         28.         98.94551845]\n",
      " [22.         29.         98.94551845]\n",
      " [23.         24.         98.94551845]\n",
      " [23.         25.         98.94551845]\n",
      " [23.         26.         98.94551845]\n",
      " [23.         27.         98.94551845]\n",
      " [23.         28.         98.94551845]\n",
      " [23.         29.         98.94551845]\n",
      " [24.         25.         98.94551845]\n",
      " [24.         26.         98.94551845]\n",
      " [24.         27.         98.94551845]\n",
      " [24.         28.         98.94551845]\n",
      " [24.         29.         98.76977153]\n",
      " [25.         26.         98.94551845]\n",
      " [25.         27.         98.94551845]\n",
      " [25.         28.         98.94551845]\n",
      " [25.         29.         99.12126538]\n",
      " [26.         27.         98.94551845]\n",
      " [26.         28.         98.94551845]\n",
      " [26.         29.         98.94551845]\n",
      " [27.         28.         98.94551845]\n",
      " [27.         29.         99.12126538]\n",
      " [28.         29.         98.94551845]]\n"
     ]
    }
   ],
   "source": [
    "print('\\nResults of refinement:')\n",
    "with np.printoptions(threshold=np.inf):\n",
    "    print(RESULTS)\n"
   ]
  },
  {
   "cell_type": "markdown",
   "id": "de82f555-2c01-466a-b9cb-4979bbb6631f",
   "metadata": {},
   "source": [
    "## **Generalisation ability comparison**"
   ]
  },
  {
   "cell_type": "code",
   "execution_count": 213,
   "id": "c7aefc80-dfa4-4f4d-b1c8-aee91d2d6835",
   "metadata": {},
   "outputs": [
    {
     "name": "stdout",
     "output_type": "stream",
     "text": [
      "Comparing generalization abilities of initial classifier and refinement\n"
     ]
    }
   ],
   "source": [
    "\n",
    "print('Comparing generalization abilities of initial classifier and refinement')\n",
    "\n",
    "# Holdout Method: 50/50 split\n",
    "n = 2  # for 50/50 split\n",
    "i1 = round(B.shape[0] / n)  # Index for splitting B\n",
    "i2 = round(M.shape[0] / n)  # Index for splitting M"
   ]
  },
  {
   "cell_type": "code",
   "execution_count": 182,
   "id": "ffdb958c-3047-4dfd-9b06-eb66d8f35392",
   "metadata": {},
   "outputs": [],
   "source": [
    "# Splitting data into train and test sets (50/50)\n",
    "test_B, train_B = B[:i1], B[i1:]\n",
    "test_M, train_M = M[:i2], M[i2:]"
   ]
  },
  {
   "cell_type": "code",
   "execution_count": 183,
   "id": "48c589db-792f-4b40-87e4-b4d1936de21e",
   "metadata": {},
   "outputs": [
    {
     "name": "stdout",
     "output_type": "stream",
     "text": [
      "Accuracy of TEST (initial): 97.1830985915493%\n"
     ]
    }
   ],
   "source": [
    "# Initial classification\n",
    "initial = 'SVM'\n",
    "classifier_ini, err, initial, vector = parameters(train_B, train_M, initial)\n",
    "print(f'Accuracy of TEST (initial): {ERRS(test_B, test_M, classifier_ini)}%')"
   ]
  },
  {
   "cell_type": "code",
   "execution_count": 184,
   "id": "2fff1419-09a8-4d23-a28d-09a913d9690d",
   "metadata": {},
   "outputs": [],
   "source": [
    "# Generate all possible combinations of k=2 elements from d dimensions\n",
    "k = 2\n",
    "P = list(combinations(range(B.shape[1]), k))  # all possible combinations (fusions) of k elements from 1:d\n"
   ]
  },
  {
   "cell_type": "code",
   "execution_count": 185,
   "id": "5c0200e3-dbd7-48df-902a-1048b21eb58e",
   "metadata": {},
   "outputs": [],
   "source": [
    "# Define the fusion index (choose one fusion to reduce the dimension)\n",
    "FUSION = 12"
   ]
  },
  {
   "cell_type": "code",
   "execution_count": 186,
   "id": "e90b0c81-bb6b-45bc-bb53-15bafec36060",
   "metadata": {},
   "outputs": [
    {
     "name": "stdout",
     "output_type": "stream",
     "text": [
      "Accuracy of TEST (refinement): 97.1830985915493%\n"
     ]
    }
   ],
   "source": [
    "for i in [FUSION - 1]:  # Python uses 0-based indexing, so subtract 1 from FUSION\n",
    "    I1 = list(P[i])  # Elements to fuse (reduce)\n",
    "    I2 = list(set(range(B.shape[1])) - set(I1))  # Remaining dimensions\n",
    "\n",
    "    # Dimensionality reduction for the entire dataset (B and M)\n",
    "    REF_B = np.column_stack((np.sum(B[:, I1] * classifier_ini[I1], axis=1), B[:, I2]))\n",
    "    REF_M = np.column_stack((np.sum(M[:, I1] * classifier_ini[I1], axis=1), M[:, I2]))\n",
    "\n",
    "    # Splitting reduced dimensions into train and test sets (50/50)\n",
    "    test_REF_B, train_REF_B= REF_B[:i1], REF_B[i1:]\n",
    "    test_REF_M, train_REF_M = REF_M[:i2], REF_M[i2:]\n",
    "\n",
    "    # Refinement\n",
    "    ref = 'SVM'  # Or you can set it to 'LDA'\n",
    "    classifier_refined, err, ref, vector = parameters(train_REF_B, train_REF_M, ref)\n",
    "\n",
    "    # Test accuracy after refinement\n",
    "    print(f'Accuracy of TEST (refinement): {ERRS(test_REF_B, test_REF_M, classifier_refined)}%')\n"
   ]
  },
  {
   "cell_type": "markdown",
   "id": "b21872eb-236f-4fa5-a5ab-95e5e73496a2",
   "metadata": {},
   "source": [
    "## **k-fold cross validation**"
   ]
  },
  {
   "cell_type": "code",
   "execution_count": 187,
   "id": "843872cd-29f5-4843-8978-980d9bf30680",
   "metadata": {},
   "outputs": [
    {
     "name": "stdout",
     "output_type": "stream",
     "text": [
      "k = 5\n"
     ]
    }
   ],
   "source": [
    "# Set k for k-fold cross-validation\n",
    "k = 5\n",
    "print(f'k = {k}')"
   ]
  },
  {
   "cell_type": "code",
   "execution_count": 188,
   "id": "11bdd383-c700-4b16-bce9-9941b018c350",
   "metadata": {},
   "outputs": [],
   "source": [
    "# Compute the indices for the K-fold cross-validation\n",
    "i1 = round(len(B) / k)\n",
    "i2 = round(len(M) / k)\n"
   ]
  },
  {
   "cell_type": "code",
   "execution_count": 189,
   "id": "7ca3e67e-18b2-4d41-b9c2-35cd43212361",
   "metadata": {},
   "outputs": [],
   "source": [
    "# Creating index splits for B and M\n",
    "IND1 = [0] + [i1 * i for i in range(1, k)] + [len(B)]\n",
    "IND2 = [0] + [i2 * i for i in range(1, k)] + [len(M)]"
   ]
  },
  {
   "cell_type": "code",
   "execution_count": 190,
   "id": "ab9b8d09-2983-4608-9134-fdc6763f320d",
   "metadata": {},
   "outputs": [],
   "source": [
    "# Initial classifier results storage\n",
    "RESULTS = []\n"
   ]
  },
  {
   "cell_type": "code",
   "execution_count": 191,
   "id": "ae91237c-7651-457a-a0fc-075bb92f0609",
   "metadata": {},
   "outputs": [],
   "source": [
    "for i in range(k):\n",
    "    # Test data split\n",
    "    test_B = B[IND1[i]:IND1[i+1], :]\n",
    "    test_M = M[IND2[i]:IND2[i+1], :]\n",
    "    \n",
    "    # Training data split by removing the test data\n",
    "    train_B = np.delete(B, np.arange(IND1[i], IND1[i+1]), axis=0)\n",
    "    train_M = np.delete(M, np.arange(IND2[i], IND2[i+1]), axis=0)\n",
    "    \n",
    "    # Train the initial classifier (assuming 'initial' is the classification type, e.g., 'LDA')\n",
    "    classifier, err, initial, vector = parameters(train_B, train_M, 'SVM')  # Change 'LDA' to 'SVM' for SVM classification\n",
    "    \n",
    "    # Calculate accuracy on the test set\n",
    "    accuracy = ERRS(test_B, test_M, classifier)\n",
    "    RESULTS.append(accuracy)\n"
   ]
  },
  {
   "cell_type": "code",
   "execution_count": 192,
   "id": "9080e83f-d0ef-4f06-8a06-679f0d6207d4",
   "metadata": {},
   "outputs": [],
   "source": [
    "# Display averaged accuracy and deviation\n",
    "average_accuracy = np.mean(RESULTS)\n",
    "std_deviation = np.std(RESULTS)"
   ]
  },
  {
   "cell_type": "code",
   "execution_count": 193,
   "id": "6d1f321c-5265-439b-9083-0e10fae3a6b4",
   "metadata": {},
   "outputs": [
    {
     "name": "stdout",
     "output_type": "stream",
     "text": [
      "AVERAGED INITIAL ACCURACY: 97.00930338098479%\n",
      "AVERAGED DEVIATION: 0.7179022440040025%\n"
     ]
    }
   ],
   "source": [
    "\n",
    "print(f'AVERAGED INITIAL ACCURACY: {average_accuracy}%')\n",
    "print(f'AVERAGED DEVIATION: {std_deviation}%')"
   ]
  },
  {
   "cell_type": "code",
   "execution_count": 194,
   "id": "3c88d67c-e5d3-453e-8b08-ce37f184a6b3",
   "metadata": {},
   "outputs": [],
   "source": [
    "# Number of dimensions for reduction (set kk = 2 to reduce exactly one dimension)\n",
    "kk = 2\n",
    "n_features = B.shape[1]"
   ]
  },
  {
   "cell_type": "code",
   "execution_count": 195,
   "id": "7d72265e-d020-4b0c-b606-35f07ac5b791",
   "metadata": {},
   "outputs": [],
   "source": [
    "# Generate all combinations of kk elements from the features\n",
    "P = list(combinations(range(n_features), kk))"
   ]
  },
  {
   "cell_type": "code",
   "execution_count": 196,
   "id": "1042e274-f13e-4bbf-85b8-e2699cbc3323",
   "metadata": {},
   "outputs": [],
   "source": [
    "# Set k for the k-fold cross-validation\n",
    "k = 5\n",
    "\n",
    "# Set up random partition indices for k-fold cross-validation\n",
    "i1 = round(len(B) / k)\n",
    "i2 = round(len(M) / k)\n",
    "\n",
    "IND1 = np.linspace(0, len(B), k+1, dtype=int)\n",
    "IND2 = np.linspace(0, len(M), k+1, dtype=int)"
   ]
  },
  {
   "cell_type": "code",
   "execution_count": 197,
   "id": "f8d95fd2-a748-4356-896e-e03c964d5768",
   "metadata": {},
   "outputs": [],
   "source": [
    "# To store results\n",
    "results = []\n",
    "\n",
    "# Loop through k folds for cross-validation\n",
    "fusion = 11  # Example to work with a specific fusion"
   ]
  },
  {
   "cell_type": "code",
   "execution_count": 198,
   "id": "767fce44-c396-488c-ba05-a0dc1e512346",
   "metadata": {},
   "outputs": [],
   "source": [
    "for i in range(k):\n",
    "    # Split data into training and testing sets\n",
    "    test_B = B[IND1[i]:IND1[i+1], :]\n",
    "    test_M = M[IND2[i]:IND2[i+1], :]\n",
    "    \n",
    "    train_B = np.delete(B, np.arange(IND1[i], IND1[i+1]), axis=0)\n",
    "    train_M = np.delete(M, np.arange(IND2[i], IND2[i+1]), axis=0)\n",
    "    \n",
    "    # Initial classification (using LDA as an example)\n",
    "    classifier_ini, err, initial, vector = parameters(train_B, train_M, 'SVM')\n",
    "    \n",
    "    # Fusion and dimensionality reduction for training and test sets\n",
    "    I1 = np.array(P[fusion])  # Fusion for dimensionality reduction\n",
    "    I2 = np.setdiff1d(range(n_features), I1)  # Remaining indices\n",
    "    \n",
    "    train_REF_B = np.column_stack([np.sum(train_B[:, I1] * classifier_ini[I1], axis=1), train_B[:, I2]])\n",
    "    train_REF_M = np.column_stack([np.sum(train_M[:, I1] * classifier_ini[I1], axis=1), train_M[:, I2]])\n",
    "    \n",
    "    test_REF_B = np.column_stack([np.sum(test_B[:, I1] * classifier_ini[I1], axis=1), test_B[:, I2]])\n",
    "    test_REF_M = np.column_stack([np.sum(test_M[:, I1] * classifier_ini[I1], axis=1), test_M[:, I2]])\n",
    "    \n",
    "    # Refinement using SVM\n",
    "    classifier_refined, err, ref, vector = parameters(train_REF_B, train_REF_M, 'SVM')\n",
    "    \n",
    "    # Calculate accuracy on the test set after refinement\n",
    "    accuracy = ERRS(test_REF_B, test_REF_M, classifier_refined)\n",
    "    results.append(accuracy)"
   ]
  },
  {
   "cell_type": "code",
   "execution_count": 199,
   "id": "4da0bb5f-f7ed-4b5a-b93d-dc77991cb842",
   "metadata": {},
   "outputs": [],
   "source": [
    "# Display averaged refinement accuracy and standard deviation\n",
    "average_accuracy = np.mean(results)\n",
    "std_deviation = np.std(results)"
   ]
  },
  {
   "cell_type": "code",
   "execution_count": 200,
   "id": "79e0b2c6-fc1f-4887-a487-1424654c9c92",
   "metadata": {},
   "outputs": [
    {
     "name": "stdout",
     "output_type": "stream",
     "text": [
      "AVERAGED REFINEMENT ACCURACY: 97.18968834166988%\n",
      "AVERAGED DEVIATION: 0.6520103397230147%\n"
     ]
    }
   ],
   "source": [
    "print(f'AVERAGED REFINEMENT ACCURACY: {average_accuracy}%')\n",
    "print(f'AVERAGED DEVIATION: {std_deviation}%')"
   ]
  },
  {
   "cell_type": "markdown",
   "id": "eea3727e-4b5a-4c83-8938-d581fc93b47c",
   "metadata": {},
   "source": [
    "## **Refinement in 2-dimensional space**"
   ]
  },
  {
   "cell_type": "code",
   "execution_count": 201,
   "id": "fee4447d-a5da-4533-90d6-db8303f5c551",
   "metadata": {},
   "outputs": [
    {
     "name": "stdout",
     "output_type": "stream",
     "text": [
      "Refinement in 2-dimensional space\n"
     ]
    }
   ],
   "source": [
    "print('Refinement in 2-dimensional space')"
   ]
  },
  {
   "cell_type": "code",
   "execution_count": 202,
   "id": "32ff270a-6732-4d29-80b9-97a0c60ad1e0",
   "metadata": {},
   "outputs": [
    {
     "name": "stdout",
     "output_type": "stream",
     "text": [
      "Accuracy of classifier: 98.94551845342706%\n"
     ]
    }
   ],
   "source": [
    "# Initial classifier\n",
    "initial = 'SVM'\n",
    "classifier, err, initial, vector = parameters(B, M, initial)\n",
    "print(f'Accuracy of classifier: {ERRS(B, M, classifier)}%')"
   ]
  },
  {
   "cell_type": "code",
   "execution_count": 203,
   "id": "53d7ebed-b76b-412d-a1c7-929b1122bac7",
   "metadata": {},
   "outputs": [],
   "source": [
    "# Generate all possible combinations of k=2 elements from d dimensions\n",
    "k = 2\n",
    "P = list(combinations(range(B.shape[1]), k))  # All possible combinations of k elements from 1:d"
   ]
  },
  {
   "cell_type": "code",
   "execution_count": 204,
   "id": "259b2b30-050f-4597-b22b-0de0e291f7c3",
   "metadata": {},
   "outputs": [],
   "source": [
    "# Choosing a specific fusion (set FUSION = 11)\n",
    "FUSION = 11\n",
    "I1 = list(P[FUSION - 1])  # Fusion dimensions (adjusted for 0-based indexing in Python)\n",
    "I2 = list(set(range(B.shape[1])) - set(I1))  # Remaining dimensions"
   ]
  },
  {
   "cell_type": "code",
   "execution_count": 205,
   "id": "98b53342-5746-46a8-82d0-5fe836d4fb6c",
   "metadata": {},
   "outputs": [
    {
     "name": "stdout",
     "output_type": "stream",
     "text": [
      "Indexsubset I1: [0, 11]\n",
      "Indexsubset I2: [1, 2, 3, 4, 5, 6, 7, 8, 9, 10, 12, 13, 14, 15, 16, 17, 18, 19, 20, 21, 22, 23, 24, 25, 26, 27, 28, 29]\n"
     ]
    }
   ],
   "source": [
    "print(f'Indexsubset I1: {I1}')\n",
    "print(f'Indexsubset I2: {I2}')"
   ]
  },
  {
   "cell_type": "code",
   "execution_count": 206,
   "id": "c64d0bff-a2c1-42bd-bbb5-f9320263848d",
   "metadata": {},
   "outputs": [],
   "source": [
    "# Dimensionality reduction\n",
    "REF_B = np.column_stack((np.sum(B[:, I1] * classifier[I1], axis=1), np.sum(B[:, I2] * classifier[I2], axis=1)))\n",
    "REF_M = np.column_stack((np.sum(M[:, I1] * classifier[I1], axis=1), np.sum(M[:, I2] * classifier[I2], axis=1)))\n",
    "\n"
   ]
  },
  {
   "cell_type": "code",
   "execution_count": 207,
   "id": "a537d587-e35c-4af3-93d8-23bb6c310fdf",
   "metadata": {},
   "outputs": [
    {
     "name": "stdout",
     "output_type": "stream",
     "text": [
      "Accuracy of initial classifier in 2D: 98.94551845342706%\n"
     ]
    }
   ],
   "source": [
    "print(f'Accuracy of initial classifier in 2D: {ERRS(REF_B, REF_M, [1, 1, classifier[-1]])}%')"
   ]
  },
  {
   "cell_type": "code",
   "execution_count": 208,
   "id": "978982e7-8dfa-42e3-ad3c-f84a860338fa",
   "metadata": {},
   "outputs": [
    {
     "data": {
      "image/png": "[encoded data removed]",
      "text/plain": [
       "<Figure size 800x600 with 1 Axes>"
      ]
     },
     "metadata": {},
     "output_type": "display_data"
    }
   ],
   "source": [
    "# Plot the reduced 2D data\n",
    "plt.figure(figsize=(8, 6))\n",
    "plt.plot(REF_B[:, 0], REF_B[:, 1], 'g*', label='class B in 2D')\n",
    "plt.plot(REF_M[:, 0], REF_M[:, 1], 'ro', label='class M in 2D')\n",
    "\n",
    "plt.legend()\n",
    "plt.show()\n"
   ]
  },
  {
   "cell_type": "code",
   "execution_count": 209,
   "id": "1436f600-07eb-40e4-bd9d-dfd46a97487d",
   "metadata": {},
   "outputs": [
    {
     "data": {
      "image/png": "[encoded data removed]",
      "text/plain": [
       "<Figure size 640x480 with 1 Axes>"
      ]
     },
     "metadata": {},
     "output_type": "display_data"
    }
   ],
   "source": [
    "# Initial classifier decision boundary in 2D\n",
    "a = 1\n",
    "b = 1\n",
    "bias = -classifier[-1]\n",
    "x = np.linspace(min(np.concatenate((REF_B[:, 0], REF_M[:, 0]))), \n",
    "                max(np.concatenate((REF_B[:, 0], REF_M[:, 0]))), 100)\n",
    "y = (-bias - a * x) / b\n",
    "plt.plot(x, y, 'k', label='Initial classifier in 2D')\n",
    "plt.legend()\n",
    "plt.show()"
   ]
  },
  {
   "cell_type": "code",
   "execution_count": 210,
   "id": "7423c969-5bbb-42cf-9e4b-577644de79dc",
   "metadata": {},
   "outputs": [
    {
     "name": "stdout",
     "output_type": "stream",
     "text": [
      "Accuracy of refinement: 98.94551845342706%\n"
     ]
    }
   ],
   "source": [
    "# Refinement\n",
    "ref = 'SVM'\n",
    "classifier_refined, err, ref, vector = parameters(REF_B, REF_M, ref)\n",
    "print(f'Accuracy of refinement: {ERRS(REF_B, REF_M, classifier_refined)}%')"
   ]
  },
  {
   "cell_type": "code",
   "execution_count": 211,
   "id": "4379be42-cc9e-45d5-bd99-ba2cceefd9fc",
   "metadata": {},
   "outputs": [
    {
     "data": {
      "image/png": "[encoded data removed]",
      "text/plain": [
       "<Figure size 640x480 with 1 Axes>"
      ]
     },
     "metadata": {},
     "output_type": "display_data"
    }
   ],
   "source": [
    "# Refined classifier decision boundary\n",
    "a = classifier_refined[0]\n",
    "b = classifier_refined[1]\n",
    "bias = -classifier_refined[-1]\n",
    "y = (-bias - a * x) / b\n",
    "plt.plot(x, y, 'k--', label='Refinement')\n",
    "\n",
    "# Finalize plot\n",
    "plt.legend()\n",
    "plt.xlabel('Feature 1')\n",
    "plt.ylabel('Feature 2')\n",
    "plt.title('Refinement in 2D reduced space')\n",
    "plt.grid(True)\n",
    "plt.show()"
   ]
  },
  {
   "cell_type": "code",
   "execution_count": 212,
   "id": "4a07941d-a1df-4932-8280-e6693b9d4c78",
   "metadata": {},
   "outputs": [
    {
     "name": "stdout",
     "output_type": "stream",
     "text": [
      "Accuracy of refinement: 98.94551845342706%\n"
     ]
    },
    {
     "data": {
      "image/png": "[encoded data removed]",
      "text/plain": [
       "<Figure size 1000x800 with 1 Axes>"
      ]
     },
     "metadata": {},
     "output_type": "display_data"
    }
   ],
   "source": [
    "# Create figure\n",
    "plt.figure(figsize=(10, 8))\n",
    "\n",
    "# Plot the reduced 2D data\n",
    "plt.plot(REF_B[:, 0], REF_B[:, 1], 'g*', label='class B in 2D')\n",
    "plt.plot(REF_M[:, 0], REF_M[:, 1], 'ro', label='class M in 2D')\n",
    "\n",
    "# Initial classifier decision boundary in 2D\n",
    "a = 1\n",
    "b = 1\n",
    "bias = -classifier[-1]\n",
    "x = np.linspace(min(np.concatenate((REF_B[:, 0], REF_M[:, 0]))), \n",
    "                max(np.concatenate((REF_B[:, 0], REF_M[:, 0]))), 100)\n",
    "y = (-bias - a * x) / b\n",
    "plt.plot(x, y, 'k', label='Initial classifier in 2D')\n",
    "\n",
    "# Refinement\n",
    "ref = 'SVM'\n",
    "classifier_refined, err, ref, vector = parameters(REF_B, REF_M, ref)\n",
    "print(f'Accuracy of refinement: {ERRS(REF_B, REF_M, classifier_refined)}%')\n",
    "\n",
    "# Refined classifier decision boundary\n",
    "a = classifier_refined[0]\n",
    "b = classifier_refined[1]\n",
    "bias = -classifier_refined[-1]\n",
    "y = (-bias - a * x) / b\n",
    "plt.plot(x, y, 'k--', label='Refined classifier')\n",
    "\n",
    "# Finalize plot\n",
    "plt.legend()\n",
    "plt.xlabel('Feature 1')\n",
    "plt.ylabel('Feature 2')\n",
    "plt.title('Refinement in 2D reduced space')\n",
    "plt.grid(True)\n",
    "plt.show()\n"
   ]
  },
  {
   "cell_type": "code",
   "execution_count": null,
   "id": "337468c4-42ad-4c3c-a4d5-9b8b241237fe",
   "metadata": {},
   "outputs": [],
   "source": []
  }
 ],
 "metadata": {
  "kernelspec": {
   "display_name": "Python 3 (ipykernel)",
   "language": "python",
   "name": "python3"
  },
  "language_info": {
   "codemirror_mode": {
    "name": "ipython",
    "version": 3
   },
   "file_extension": ".py",
   "mimetype": "text/x-python",
   "name": "python",
   "nbconvert_exporter": "python",
   "pygments_lexer": "ipython3",
   "version": "3.9.2"
  }
 },
 "nbformat": 4,
 "nbformat_minor": 5
}
